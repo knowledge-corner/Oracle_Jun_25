{
 "cells": [
  {
   "attachments": {},
   "cell_type": "markdown",
   "metadata": {},
   "source": [
    "# **All about Python Programming**\n",
    "\n",
    "### Course Agenda\n",
    "\n",
    "**1. Programming Basics**\n",
    "- **Variables**: Declaration, initialization, and usage.\n",
    "- **Operators**: Arithmetic, comparison, logical, assignment, and bitwise operators.\n",
    "- **Decision Making**: `if`, `elif`, `else` statements for conditional execution.\n",
    "- **Iteration**: `for` and `while` loops for repetitive tasks.\n",
    "- **Sequences**: String manipulation and basic operations with lists.\n",
    "\n",
    "---\n",
    "\n",
    "**2. Data Structures in Python**\n",
    "- **List**: Creation, indexing, slicing, and operations.\n",
    "- **Tuple**: Immutable sequences, creation, and usage.\n",
    "- **Set**: Unique elements, set operations like union, intersection, and difference.\n",
    "- **Dictionary**: Key-value pairs, dictionary methods, and usage.\n",
    "\n",
    "---\n",
    "\n",
    "**3. Functions**\n",
    "- **Function Arguments**: Positional, keyword, default arguments, and variable-length arguments.\n",
    "- **Lambda Functions**: Anonymous functions, use cases, and syntax.\n",
    "- **Function Objects**: Passing functions as arguments, returning functions from other functions.\n",
    "- **Map, Filter, Reduce**: Functional programming tools for processing collections.\n",
    "\n",
    "---\n",
    "\n",
    "**4. Exception Handling**\n",
    "- **Handling Exceptions**: `try`, `except`, `finally`, and `else` clauses.\n",
    "- **Raising Exceptions**: Custom exceptions and usage.\n",
    "\n",
    "---\n",
    "\n",
    "**5. Object Oriented Programming (OOP)**\n",
    "- **Classes and Objects**: Defining classes, creating objects, and understanding `self`.\n",
    "- **Attributes and Methods**: Instance variables, class variables, and methods.\n",
    "- **Inheritance**: Single and multiple inheritance, method overriding.\n",
    "- **Polymorphism**: Method overloading and operator overloading.\n",
    "- **Encapsulation**: Private variables and methods, using getters and setters.\n",
    "\n",
    "---\n",
    "\n",
    "**6. Regular Expressions**\n",
    "- **Introduction to Regex**: Basic syntax and usage in Python.\n",
    "- **Regex Functions**: `re.match()`, `re.search()`, `re.findall()`, `re.sub()`.\n",
    "- **Common Patterns**: Character classes, quantifiers, groups, and anchors.\n",
    "\n",
    "---\n",
    "\n",
    "**7. Connecting to External Data Sources**\n",
    "- **File Handling**: Reading and writing files (`open`, `read`, `write`, `with` statement).\n",
    "- **Databases**: Connecting to databases using `sqlite3` or other database connectors.\n",
    "- **Web APIs**: Fetching data from web APIs using the `requests` library.\n",
    "\n",
    "---\n",
    "\n",
    "**8. Requests Library**\n",
    "- **Introduction to HTTP Requests**: GET, POST, PUT, DELETE methods.\n",
    "- **Making Requests**: Using `requests` to send HTTP requests and handle responses.\n",
    "- **Handling JSON Data**: Parsing and processing JSON responses.\n",
    "\n",
    "<hr><hr>\n"
   ]
  },
  {
   "cell_type": "markdown",
   "metadata": {},
   "source": [
    "\n",
    "### Python Interface\n",
    "\n",
    "A Python interface refers to the means through which you can interact with Python programs, libraries, or external systems. Here are a few different ways you can interface with Python:\n",
    "\n",
    "**1. Interactive Python Shell (REPL)**\n",
    "- **Description**: The Python Shell, also known as the Read-Eval-Print Loop (REPL), is an interactive command-line interface where you can type and execute Python commands one at a time. This is useful for quick experiments and debugging.\n",
    "- **Example**: You can start the Python Shell by simply typing `python` or `python3` in your terminal or command prompt.\n",
    "\n",
    "**2. Integrated Development Environments (IDEs)**\n",
    "- **Popular IDEs**: PyCharm, Visual Studio Code, Spyder, Jupyter Notebook.\n",
    "- **Description**: IDEs provide a comprehensive environment for writing, testing, and debugging Python code. They come with features like syntax highlighting, code completion, version control integration, and more.\n",
    "- **Example**: PyCharm offers an advanced interface with debugging tools, refactoring support, and integration with version control systems like Git.\n",
    "\n",
    "**3. Jupyter Notebooks**\n",
    "- **Description**: Jupyter Notebooks are an interactive web-based environment where you can combine code execution, text, and visualizations in a single document. This is particularly useful for data analysis, machine learning, and teaching.\n",
    "- **Example**: You can run Jupyter Notebooks by installing the Jupyter package and starting a notebook server with the command `jupyter notebook`.\n",
    "\n",
    "**4. Command-Line Interface (CLI)**\n",
    "- **Description**: Python scripts can be executed directly from the command line. You can write Python programs that take command-line arguments and perform tasks based on those arguments.\n",
    "- **Example**: A Python script named `myscript.py` can be run using `python myscript.py` in the terminal.\n",
    "\n",
    "**5. Google Colab Notebook**\n",
    "- Can be access using - https://colab.research.google.com/\n",
    "- Requires google sign-in\n",
    "\n",
    "Each of these interfaces serves different purposes and can be chosen based on the specific requirements of your project or task.\n",
    "\n",
    "<hr><hr>\n"
   ]
  },
  {
   "cell_type": "markdown",
   "metadata": {},
   "source": [
    "#### Step-by-step guide to install Python and Visual Studio Code (VS Code) on Windows 11\n",
    "\n",
    "**Step 1: Install Python**\n",
    "\n",
    "1. Download Python:\n",
    "\n",
    "   * Go to the official Python website: [https://www.python.org/downloads/](https://www.python.org/downloads/)\n",
    "   * Click on the \"Download Python\" button to get the latest version.\n",
    "\n",
    "2. Run the Installer:\n",
    "\n",
    "   * Open the downloaded installer.\n",
    "   * Check the box that says **\"Add Python to PATH\"**.\n",
    "   * Click on **\"Install Now\"**.\n",
    "\n",
    "3. Verify Installation:\n",
    "\n",
    "   * Open Command Prompt.\n",
    "   * Type `python --version` and press Enter.\n",
    "   * You should see the installed Python version displayed.\n",
    "\n",
    "---\n",
    "\n",
    "**Step 2: Install Visual Studio Code (VS Code)**\n",
    "\n",
    "1. Download VS Code:\n",
    "\n",
    "   * Visit the official VS Code website: [https://code.visualstudio.com/download](https://code.visualstudio.com/download)\n",
    "   * Click on the \"Download for Windows\" button.\n",
    "\n",
    "2. Install VS Code:\n",
    "\n",
    "   * Run the downloaded installer.\n",
    "   * Follow the setup wizard:\n",
    "\n",
    "     * Accept the license agreement.\n",
    "     * Choose the installation location.\n",
    "     * Select additional tasks (e.g., create a desktop icon, add to PATH).\n",
    "   * Click **\"Install\"** to begin the installation.\n",
    "\n",
    "3. Launch VS Code:\n",
    "\n",
    "   * After installation, open VS Code from the Start menu or desktop shortcut.\n",
    "\n",
    "---\n",
    "\n",
    "**Step 3: Install Python Extension in VS Code**\n",
    "\n",
    "1. Open Extensions View:\n",
    "\n",
    "   * In VS Code, click on the Extensions icon on the left sidebar (or press `Ctrl+Shift+X`).\n",
    "\n",
    "2. Search and Install Python Extension:\n",
    "\n",
    "   * Type `Python` in the search bar.\n",
    "   * Locate the extension named **\"Python\"** by Microsoft.\n",
    "   * Click **\"Install\"**.\n",
    "\n",
    "   This extension provides features like IntelliSense, linting, debugging, and more.&#x20;\n",
    "\n",
    "---\n",
    "\n",
    "**Step 4: Install Jupyter Extension in VS Code**\n",
    "\n",
    "1. Search and Install Jupyter Extension:\n",
    "\n",
    "   * In the Extensions view (`Ctrl+Shift+X`), type `Jupyter` in the search bar.\n",
    "   * Find the extension named **\"Jupyter\"** by Microsoft.\n",
    "   * Click **\"Install\"**.\n",
    "\n",
    "   This extension allows you to work with Jupyter Notebooks directly within VS Code.&#x20;\n",
    "\n",
    "---\n",
    "\n",
    "**Step 5: Configure Python Interpreter in VS Code**\n",
    "\n",
    "1. Open Command Palette:\n",
    "\n",
    "   * Press `Ctrl+Shift+P` to open the Command Palette.\n",
    "\n",
    "2. Select Python Interpreter:\n",
    "\n",
    "   * Type `Python: Select Interpreter` and select it.\n",
    "   * Choose the Python interpreter you installed earlier (e.g., Python 3.x.x).\n",
    "\n",
    "   This ensures that VS Code uses the correct Python version for your projects.&#x20;\n",
    "\n",
    "---\n",
    "\n",
    "**Step 6: Create and Run a Jupyter Notebook**\n",
    "\n",
    "1. Create a New Notebook:\n",
    "\n",
    "   * In VS Code, press `Ctrl+Shift+P` to open the Command Palette.\n",
    "   * Type `Jupyter: Create New Jupyter Notebook` and select it.\n",
    "\n",
    "2. Write and Execute Code:\n",
    "\n",
    "   * In the new notebook, you can add code cells and write Python code.\n",
    "   * Click the play icon next to each cell to execute it.\n",
    "\n",
    "   Ensure that the correct Python interpreter is selected for the notebook.&#x20;\n",
    "\n",
    "---"
   ]
  },
  {
   "cell_type": "markdown",
   "metadata": {},
   "source": [
    "\n",
    "## **Module 1. Programming Basics**\n",
    "- **Variables**: Declaration, initialization, and usage.\n",
    "- **Operators**: Arithmetic, comparison, logical, assignment, and bitwise operators.\n",
    "- **Decision Making**: `if`, `elif`, `else` statements for conditional execution.\n",
    "- **Iteration**: `for` and `while` loops for repetitive tasks.\n",
    "- **Sequences**: String manipulation and basic operations with lists.\n",
    "\n",
    "<hr>\n",
    "\n",
    "### Features of Python Programming Language-\n",
    "Python is a versatile and powerful programming language that is widely used in various fields. Here are some of its key features:\n",
    "\n",
    "#### **1. Easy to Learn and Use**\n",
    "- **Readability**: Python has a clear and easy-to-read syntax which makes it accessible for beginners.\n",
    "- **Minimal Syntax**: Python code is concise and easy to write, reducing the need for complex boilerplate code.\n",
    "\n",
    "#### **2. Interpreted Language**\n",
    "- **No Compilation**: Python is an interpreted language, meaning you can run the code directly without needing to compile it first.\n",
    "- **Interactive Mode**: Python provides an interactive mode, allowing you to execute code line by line and test small snippets quickly.\n",
    "\n",
    "#### **3. High-Level Language**\n",
    "- **Abstracted Details**: Python abstracts many low-level details such as memory management, making it easier to focus on the logic of the code.\n",
    "- **Built-in Data Types**: Python includes powerful built-in data types such as lists, tuples, sets, and dictionaries.\n",
    "\n",
    "#### **4. Dynamically Typed**\n",
    "- **No Explicit Declarations**: Variable types are determined at runtime, eliminating the need for explicit type declarations.\n",
    "- **Flexibility**: This dynamic typing provides flexibility in coding and faster prototyping.\n",
    "\n",
    "#### **5. Extensive Standard Library**\n",
    "- **Wide Range of Modules**: Python's standard library includes modules for various tasks such as file I/O, system calls, web development, and data manipulation.\n",
    "- **Out-of-the-Box Functionality**: Many common programming tasks can be accomplished without the need for external libraries.\n",
    "\n",
    "#### **6. Cross-Platform Compatibility**\n",
    "- **Portable**: Python code can run on various operating systems such as Windows, macOS, and Linux without modification.\n",
    "- **Platform Independence**: Python's platform independence makes it ideal for developing cross-platform applications.\n",
    "\n",
    "#### **7. Object-Oriented Programming**\n",
    "- **Class Support**: Python supports object-oriented programming with classes and inheritance, allowing for modular and reusable code.\n",
    "- **Encapsulation and Polymorphism**: Python supports encapsulation and polymorphism, essential features for building complex applications.\n",
    "\n",
    "#### **8. Large Community and Ecosystem**\n",
    "- **Active Community**: Python has a large and active community that contributes to its continuous improvement.\n",
    "- **Rich Ecosystem**: There are numerous third-party libraries and frameworks available, such as NumPy for numerical computing, Pandas for data manipulation, Flask and Django for web development, and TensorFlow and PyTorch for machine learning.\n",
    "\n",
    "#### **9. Integration Capabilities**\n",
    "- **Interoperability**: Python can easily integrate with other languages and technologies, such as C, C++, Java, and .NET.\n",
    "- **Scripting**: It can be used as a scripting language to automate tasks and enhance the functionality of existing applications.\n",
    "\n",
    "#### **10. Strong Support for Data Science and Machine Learning**\n",
    "- **Data Analysis**: Python is extensively used in data analysis with libraries like Pandas, Matplotlib, and Seaborn.\n",
    "- **Machine Learning**: Python is a popular choice for machine learning and artificial intelligence with libraries like TensorFlow, Keras, and Scikit-Learn.\n",
    "  \n",
    "\n",
    "Python's combination of readability, flexibility, and an extensive ecosystem makes it an excellent choice for both beginners and experienced developers. Whether you're building web applications, data analysis tools, or machine learning models, Python provides the tools and features you need to succeed. \n",
    "\n",
    "<hr><br><br>\n",
    "\n",
    "### Python Data Types\n",
    "\n",
    "Python has several built-in data types that allow you to store and manipulate different kinds of data. Here are the primary data types in Python:\n",
    "\n",
    "<table style=\"width: 60%; border-collapse: collapse; border: 1px solid #ccc; text-align: center;margin-left: 0;\">\n",
    "  <thead>\n",
    "    <tr style=\"background-color: #050A30; color: white;\">\n",
    "      <th>Data Type</th>\n",
    "      <th>Description</th>\n",
    "      <th>Examples</th>\n",
    "    </tr>\n",
    "  </thead>\n",
    "  <tbody>\n",
    "    <tr>\n",
    "      <td>int</td>\n",
    "      <td>Integer numbers</td>\n",
    "      <td>42, -7</td>\n",
    "    </tr>\n",
    "    <tr>\n",
    "      <td>float</td>\n",
    "      <td>Floating-point numbers (decimal)</td>\n",
    "      <td>3.14, -0.001</td>\n",
    "    </tr>\n",
    "    <tr>\n",
    "      <td>complex</td>\n",
    "      <td>Complex numbers</td>\n",
    "      <td>1+2j, -3+4j</td>\n",
    "    </tr>\n",
    "    <tr>\n",
    "      <td>bool</td>\n",
    "      <td>Boolean values</td>\n",
    "      <td>True, False</td>\n",
    "    </tr>\n",
    "    <tr>\n",
    "      <td>str</td>\n",
    "      <td>String, a sequence of characters</td>\n",
    "      <td>\"hello\", 'world'</td>\n",
    "    </tr>\n",
    "    <tr>\n",
    "      <td>bytes</td>\n",
    "      <td>Immutable sequence of bytes</td>\n",
    "      <td>b'hello'</td>\n",
    "    </tr>\n",
    "  </tbody>\n",
    "</table>\n",
    "\n",
    "<br><br>\n",
    "### Python Containers or Data structures\n",
    "\n",
    "In Python, containers refer to data structures that hold multiple elements together. They provide a way to manage and organize collections of data. Here are some common types of containers in Python:\n",
    "\n",
    "<table style=\"width: 60%; border-collapse: collapse; border: 1px solid #ccc; text-align: left; margin-left: 0;\">\n",
    "  <thead>\n",
    "    <tr style=\"background-color: #050A30; color: white;\">\n",
    "      <th style=\"text-align: left;\">Data Structure</th>\n",
    "      <th style=\"text-align: left;\">Definition</th>\n",
    "      <th style=\"text-align: left;\">Syntax</th>\n",
    "      <th style=\"text-align: left;\">Example</th>\n",
    "    </tr>\n",
    "  </thead>\n",
    "  <tbody>\n",
    "    <tr>\n",
    "      <td style=\"text-align: left;\">List</td>\n",
    "      <td style=\"text-align: left;\">An ordered, mutable (changeable) collection of items.</td>\n",
    "      <td style=\"text-align: left;\">Created using square brackets []</td>\n",
    "      <td style=\"text-align: left;\">`[1, 2, 3, 4]`</td>\n",
    "    </tr>\n",
    "    <tr>\n",
    "      <td style=\"text-align: left;\">Tuple</td>\n",
    "      <td style=\"text-align: left;\">An ordered, immutable (unchangeable) collection of items.</td>\n",
    "      <td style=\"text-align: left;\">Created using parentheses ()</td>\n",
    "      <td style=\"text-align: left;\">`(1, 2, 3, 4)`</td>\n",
    "    </tr>\n",
    "    <tr>\n",
    "      <td style=\"text-align: left;\">Set</td>\n",
    "      <td style=\"text-align: left;\">An unordered collection of unique items.</td>\n",
    "      <td style=\"text-align: left;\">Created using curly braces {} or the set() function.</td>\n",
    "      <td style=\"text-align: left;\">`{1, 2, 3, 4}` or `set([1, 2, 3, 4])`</td>\n",
    "    </tr>\n",
    "    <tr>\n",
    "      <td style=\"text-align: left;\">Dictionary</td>\n",
    "      <td style=\"text-align: left;\">An unordered collection of key-value pairs. Keys must be unique and immutable.</td>\n",
    "      <td style=\"text-align: left;\">Created using curly braces {} with key-value pairs separated by colons :</td>\n",
    "      <td style=\"text-align: left;\">`{'a': 1, 'b': 2, 'c': 3}`</td>\n",
    "    </tr>\n",
    "  </tbody>\n",
    "</table>\n",
    "\n",
    "<br><br>"
   ]
  },
  {
   "cell_type": "markdown",
   "metadata": {},
   "source": [
    "##### Note - Everything in Python is an Object"
   ]
  },
  {
   "cell_type": "markdown",
   "metadata": {},
   "source": [
    "#### Examples - "
   ]
  },
  {
   "cell_type": "markdown",
   "metadata": {},
   "source": [
    "###### Ex. Define variable name and assign value to the variable"
   ]
  },
  {
   "cell_type": "code",
   "execution_count": 1,
   "metadata": {},
   "outputs": [
    {
     "name": "stdout",
     "output_type": "stream",
     "text": [
      "Welcome Jane\n"
     ]
    }
   ],
   "source": [
    "name = \"Jane\"\n",
    "print(\"Welcome\", name)"
   ]
  },
  {
   "cell_type": "markdown",
   "metadata": {},
   "source": [
    "###### Ex. WAP to take name of user as input and print a welcome message"
   ]
  },
  {
   "cell_type": "code",
   "execution_count": 2,
   "metadata": {},
   "outputs": [
    {
     "name": "stdin",
     "output_type": "stream",
     "text": [
      "Enter your name -  George\n"
     ]
    },
    {
     "name": "stdout",
     "output_type": "stream",
     "text": [
      "Welcome George\n"
     ]
    }
   ],
   "source": [
    "name = input(\"Enter your name - \")\n",
    "print(\"Welcome\", name)"
   ]
  },
  {
   "cell_type": "code",
   "execution_count": 4,
   "metadata": {},
   "outputs": [
    {
     "name": "stdout",
     "output_type": "stream",
     "text": [
      "Hello_World\n"
     ]
    }
   ],
   "source": [
    "print(\"Hello\", \"World\", sep = \"_\")  # default for sep = \" \""
   ]
  },
  {
   "cell_type": "markdown",
   "metadata": {},
   "source": [
    "###### Ex. WAP to calculate the sum of two numbers entered by the user."
   ]
  },
  {
   "cell_type": "code",
   "execution_count": 5,
   "metadata": {},
   "outputs": [
    {
     "name": "stdin",
     "output_type": "stream",
     "text": [
      "Enter a number -  5\n",
      "Enter a number -  7\n"
     ]
    },
    {
     "name": "stdout",
     "output_type": "stream",
     "text": [
      "57\n"
     ]
    }
   ],
   "source": [
    "num1 = input(\"Enter a number - \")\n",
    "num2 = input(\"Enter a number - \")\n",
    "print(num1 + num2)"
   ]
  },
  {
   "cell_type": "code",
   "execution_count": 6,
   "metadata": {},
   "outputs": [
    {
     "data": {
      "text/plain": [
       "str"
      ]
     },
     "execution_count": 6,
     "metadata": {},
     "output_type": "execute_result"
    }
   ],
   "source": [
    "# Check data type of a variable\n",
    "type(num1)"
   ]
  },
  {
   "cell_type": "markdown",
   "metadata": {},
   "source": [
    "##### Note - input() always returns the value in str format"
   ]
  },
  {
   "cell_type": "code",
   "execution_count": 7,
   "metadata": {},
   "outputs": [
    {
     "name": "stdin",
     "output_type": "stream",
     "text": [
      "Enter a number -  5\n",
      "Enter a number -  7\n"
     ]
    },
    {
     "name": "stdout",
     "output_type": "stream",
     "text": [
      "12\n"
     ]
    }
   ],
   "source": [
    "num1 = int(input(\"Enter a number - \")) # data type conversion - converting from str to int/float\n",
    "num2 = int(input(\"Enter a number - \"))\n",
    "print(num1 + num2)"
   ]
  },
  {
   "cell_type": "markdown",
   "metadata": {},
   "source": [
    "#### Key-board shortcuts - \n",
    "- shift + enter/cltr + enter - runs the cell\n",
    "- Esc and then A/B - adds a new cell - A - above and B - below"
   ]
  },
  {
   "cell_type": "markdown",
   "metadata": {},
   "source": [
    "<hr><hr>"
   ]
  },
  {
   "attachments": {},
   "cell_type": "markdown",
   "metadata": {
    "scrolled": false
   },
   "source": [
    "### Operators in Python\n",
    "Operators are special symbols in Python that carry out computations. The value that the operator operates on is called as operand.\n",
    "\n",
    "#### 1. Arithmetic Operators\n",
    "These operators perform arithmetic operations on numeric values.\n",
    "\n",
    "- `+` : Addition\n",
    "- `-` : Subtraction\n",
    "- `*` : Multiplication\n",
    "- `/` : Division\n",
    "- `%` : Modulus (remainder of division)\n",
    "- `**` : Exponentiation (power)\n",
    "- `//` : Floor division (division that results in the largest integer less than or equal to the quotient)\n",
    "\n",
    "#### 2. Comparison Operators\n",
    "These operators compare two values and return a boolean result (True or False).\n",
    "\n",
    "- `==` : Equal to\n",
    "- `!=` : Not equal to\n",
    "- `>` : Greater than\n",
    "- `<` : Less than\n",
    "- `>=` : Greater than or equal to\n",
    "- `<=` : Less than or equal to\n",
    "\n",
    "#### 3. Logical Operators\n",
    "These operators are used to combine conditional statements.\n",
    "\n",
    "- `and` : Returns True if both statements are true\n",
    "- `or` : Returns True if at least one of the statements is true\n",
    "- `not` : Reverses the result, returns False if the result is true\n",
    "\n",
    "#### 4. Basic Assignment Operator\n",
    "`=` : Assigns the value on the right to the variable on the left.\n",
    "\n",
    "#### Compound Assignment Operators\n",
    "These operators perform an operation on a variable and then assign the result back to that variable.\n",
    "\n",
    "- `+=` : Adds the right operand to the left operand and assigns the result to the left operand.\n",
    "- `-=` : Subtracts the right operand from the left operand and assigns the result to the left operand.\n",
    "- `*=` : Multiplies the left operand by the right operand and assigns the result to the left operand.\n",
    "- `/=` : Divides the left operand by the right operand and assigns the result to the left operand.\n",
    "- `%=` : Takes the modulus of the left operand by the right operand and assigns the result to the left operand.\n",
    "- `//=` : Performs floor division on the left operand by the right operand and assigns the result to the left operand.\n",
    "- `**=` : Raises the left operand to the power of the right operand and assigns the result to the left operand.\n",
    "\n",
    "### Membership Operators\n",
    "\n",
    "Membership operators are used to test whether a value or variable is found in a sequence (such as a string, list, tuple, set, or dictionary). There are two membership operators in Python:\n",
    "\n",
    "- `in` - The in operator checks if a value is present in a sequence.\n",
    "- `not in` - The not in operator checks if a value is not present in a sequence.\n",
    "<br><br>"
   ]
  },
  {
   "cell_type": "markdown",
   "metadata": {},
   "source": [
    "#### Examples - "
   ]
  },
  {
   "cell_type": "markdown",
   "metadata": {},
   "source": [
    "###### Ex. WAP to accept hours and rate per hour from user and compute gross pay."
   ]
  },
  {
   "cell_type": "code",
   "execution_count": 8,
   "metadata": {},
   "outputs": [
    {
     "name": "stdin",
     "output_type": "stream",
     "text": [
      "Enter number of hours -  40\n",
      "Enter rate per hour -  1000\n"
     ]
    },
    {
     "name": "stdout",
     "output_type": "stream",
     "text": [
      "Gross Pay -  40000\n"
     ]
    }
   ],
   "source": [
    "hrs = int(input(\"Enter number of hours - \"))\n",
    "rate = int(input(\"Enter rate per hour - \"))\n",
    "gross_pay = hrs * rate\n",
    "print(\"Gross Pay - \", gross_pay)"
   ]
  },
  {
   "cell_type": "markdown",
   "metadata": {},
   "source": [
    "###### Ex. WAP to calculate BMI of a person."
   ]
  },
  {
   "cell_type": "code",
   "execution_count": 12,
   "metadata": {},
   "outputs": [
    {
     "name": "stdin",
     "output_type": "stream",
     "text": [
      "Enter weight in kgs -  65\n",
      "Enter height in mtrs -  1.68\n"
     ]
    },
    {
     "name": "stdout",
     "output_type": "stream",
     "text": [
      "BMI -  23.03\n"
     ]
    }
   ],
   "source": [
    "weight = float(input(\"Enter weight in kgs - \"))\n",
    "height = float(input(\"Enter height in mtrs - \"))\n",
    "bmi = round(weight/(height ** 2), 2)\n",
    "print(\"BMI - \", bmi)"
   ]
  },
  {
   "cell_type": "markdown",
   "metadata": {},
   "source": [
    "###### Ex. WAP to calculate the hypoteneous of a right angled triangle when sides are given"
   ]
  },
  {
   "cell_type": "code",
   "execution_count": 14,
   "metadata": {},
   "outputs": [
    {
     "data": {
      "text/plain": [
       "5"
      ]
     },
     "execution_count": 14,
     "metadata": {},
     "output_type": "execute_result"
    }
   ],
   "source": [
    "import math\n",
    "base = 4\n",
    "height = 3\n",
    "hypt = int(math.sqrt((base ** 2) + (height ** 2)))\n",
    "hypt"
   ]
  },
  {
   "cell_type": "markdown",
   "metadata": {},
   "source": [
    "**Modules in Python -**\n",
    "- In Python, a module is a file containing Python definitions, functions, and statements.\n",
    "- Modules allow you to organize your code into separate files, making it easier to manage, reuse, and maintain.\n",
    "\n",
    "**Built-in Modules -**\n",
    "\n",
    "Python comes with a standard library of built-in modules that provide useful functions and tools. Some common built-in modules include:\n",
    "\n",
    "- math: Provides mathematical functions.\n",
    "- os: Interacts with the operating system.\n",
    "- sys: Accesses system-specific parameters and functions.\n",
    "- datetime: Manipulates dates and times.\n",
    "- random: Provides functions to generate random values"
   ]
  },
  {
   "cell_type": "code",
   "execution_count": 15,
   "metadata": {},
   "outputs": [
    {
     "name": "stdout",
     "output_type": "stream",
     "text": [
      "Welcome Home\n"
     ]
    }
   ],
   "source": [
    "print(\"Welcome\", \"Home\")  # sep = \" \" adds the space between two values can replace with any other charater"
   ]
  },
  {
   "cell_type": "code",
   "execution_count": 17,
   "metadata": {},
   "outputs": [
    {
     "name": "stdout",
     "output_type": "stream",
     "text": [
      "Addition of 10 and 20 = 30\n"
     ]
    }
   ],
   "source": [
    "a = 10\n",
    "b = 20\n",
    "c = a + b\n",
    "print(\"Addition of\", a, \"and\", b, \"=\", c)"
   ]
  },
  {
   "cell_type": "code",
   "execution_count": 22,
   "metadata": {},
   "outputs": [
    {
     "data": {
      "text/plain": [
       "'Addition of 10 and 20 = 30'"
      ]
     },
     "execution_count": 22,
     "metadata": {},
     "output_type": "execute_result"
    }
   ],
   "source": [
    "a = 10\n",
    "b = 20\n",
    "c = a + b\n",
    "str_obj = f\"Addition of {a} and {b} = {c}\"\n",
    "str_obj"
   ]
  },
  {
   "cell_type": "code",
   "execution_count": 21,
   "metadata": {},
   "outputs": [
    {
     "name": "stdout",
     "output_type": "stream",
     "text": [
      "Addition of 10 and 20 = 30\n"
     ]
    }
   ],
   "source": [
    "print(str_obj)"
   ]
  },
  {
   "cell_type": "code",
   "execution_count": 23,
   "metadata": {},
   "outputs": [
    {
     "data": {
      "text/plain": [
       "'abcpqr'"
      ]
     },
     "execution_count": 23,
     "metadata": {},
     "output_type": "execute_result"
    }
   ],
   "source": [
    "\"abc\" + \"pqr\""
   ]
  },
  {
   "cell_type": "markdown",
   "metadata": {},
   "source": [
    "###### Ex. Convert the sales value in thousands and concate `k` as suffix"
   ]
  },
  {
   "cell_type": "code",
   "execution_count": 30,
   "metadata": {},
   "outputs": [
    {
     "name": "stdin",
     "output_type": "stream",
     "text": [
      "Enter a number -  38520\n"
     ]
    },
    {
     "data": {
      "text/plain": [
       "'38k'"
      ]
     },
     "execution_count": 30,
     "metadata": {},
     "output_type": "execute_result"
    }
   ],
   "source": [
    "sales = int(input(\"Enter a number - \"))\n",
    "f\"{sales//1000}k\""
   ]
  },
  {
   "cell_type": "code",
   "execution_count": 36,
   "metadata": {},
   "outputs": [
    {
     "name": "stdin",
     "output_type": "stream",
     "text": [
      "Enter a number -  38520\n"
     ]
    },
    {
     "data": {
      "text/plain": [
       "'38.5k'"
      ]
     },
     "execution_count": 36,
     "metadata": {},
     "output_type": "execute_result"
    }
   ],
   "source": [
    "sales = int(input(\"Enter a number - \"))\n",
    "f\"{round(sales/1000, 1)}k\""
   ]
  },
  {
   "cell_type": "markdown",
   "metadata": {},
   "source": [
    "**Formatted Strings -** Introduced in Python 3.6, f-strings provide a more concise and readable way to format strings. You can include variables or expressions inside curly braces {} prefixed with an f."
   ]
  },
  {
   "cell_type": "markdown",
   "metadata": {},
   "source": [
    "<hr><hr>"
   ]
  },
  {
   "attachments": {},
   "cell_type": "markdown",
   "metadata": {},
   "source": [
    "## Decision Making\n",
    "\n",
    "Decision-making statements in Python allow you to control the flow of execution based on certain conditions. These statements include if, elif, and else and can be used to execute different blocks of code depending on whether conditions are True or False.\n",
    "\n",
    "- #### Basic if Statement\n",
    "    - The if statement evaluates a condition and executes a block of code if the condition is True.\n",
    "    - Syntax:<br>\n",
    "      `if condition:`<br>\n",
    "          &emsp;&emsp;`# block of code`\n",
    "\n",
    "- #### if-else Statement\n",
    "    - The if-else statement evaluates a condition and executes one block of code if the condition is True, and another block if the condition is False.\n",
    "    - Syntax:<br>\n",
    "    `if condition:`<br>\n",
    "    &emsp;&emsp;`# block of code if condition is True`<br>\n",
    "       `else:`<br>\n",
    "    &emsp;&emsp;`# block of code if condition is False`\n",
    "- #### if-elif-else Statement\n",
    "    - The if-elif-else statement allows you to check multiple expressions for True and execute a block of code as soon as one of the conditions evaluates to True.\n",
    "    - If none of the conditions are True, the else block is executed.\n",
    "    - Syntax:<br>\n",
    "    `if condition1:`<br>\n",
    "    &emsp;&emsp;`# block of code if condition1 is True`<br>\n",
    "    `elif condition2:`<br>\n",
    "        &emsp;&emsp;`# block of code if condition2 is True`<br>\n",
    "    `elif condition3:`<br>\n",
    "        &emsp;&emsp;`# block of code if condition3 is True`<br>\n",
    "    `else:`<br>\n",
    "    &emsp;&emsp;`# block of code if none of the conditions are True`\n",
    "\n",
    "- #### Nested if Statements\n",
    "    - You can nest if statements within other if statements to check multiple conditions in a hierarchical manner.\n",
    "    - Syntax:<br>\n",
    "    `if condition1:`<br>\n",
    "    &emsp;&emsp;`# block of code if condition1 is True`<br>\n",
    "    &emsp;&emsp;`if condition2:`<br>\n",
    "        &emsp;&emsp;&emsp;&emsp;`# block of code if condition2 is True`<br>\n",
    "    &emsp;&emsp;`else condition3:`<br>\n",
    "        &emsp;&emsp;&emsp;&emsp;`# block of code if condition2 is False`<br>\n",
    "    `else:`<br>\n",
    "    &emsp;&emsp;`# block of code if condition1 is False`\n",
    "\n",
    "- #### One-Line if-else\n",
    "\n",
    "    - Syntax: <br>\n",
    "  `value_if_true if condition else value_if_false`\n"
   ]
  },
  {
   "cell_type": "markdown",
   "metadata": {},
   "source": [
    "#### Examples -"
   ]
  },
  {
   "cell_type": "markdown",
   "metadata": {},
   "source": [
    "###### Ex. WAP to check if entered number is positive or negative"
   ]
  },
  {
   "cell_type": "code",
   "execution_count": 38,
   "metadata": {},
   "outputs": [
    {
     "name": "stdin",
     "output_type": "stream",
     "text": [
      "Enter a number -  -2\n"
     ]
    },
    {
     "name": "stdout",
     "output_type": "stream",
     "text": [
      "Negative\n"
     ]
    }
   ],
   "source": [
    "num = int(input(\"Enter a number - \"))\n",
    "if num > 0 :\n",
    "    print(\"Positive\")\n",
    "else :\n",
    "    print(\"Negative\")"
   ]
  },
  {
   "cell_type": "markdown",
   "metadata": {},
   "source": [
    "###### Ex. WAP to accept hours and rate per hour from user and compute gross pay.\n",
    "- for 40 hrs pay the standard rate\n",
    "- if overtime then pay 1.5 times of rate for the additional hrs.\n"
   ]
  },
  {
   "cell_type": "code",
   "execution_count": 41,
   "metadata": {},
   "outputs": [
    {
     "name": "stdin",
     "output_type": "stream",
     "text": [
      "Enter number of hours -  45 \n",
      "Enter rate per hour -  1000\n"
     ]
    },
    {
     "name": "stdout",
     "output_type": "stream",
     "text": [
      "Gross Pay -  47500.0\n"
     ]
    }
   ],
   "source": [
    "hrs = int(input(\"Enter number of hours - \"))\n",
    "rate = int(input(\"Enter rate per hour - \"))\n",
    "if hrs <= 40 :\n",
    "    gross_pay = hrs * rate\n",
    "else:\n",
    "    gross_pay = (40 * rate) + ((hrs - 40) * 1.5 * rate)\n",
    "print(\"Gross Pay - \", gross_pay)"
   ]
  },
  {
   "cell_type": "markdown",
   "metadata": {},
   "source": [
    "###### Ex. WAP to accept a single character from user and check if it is a vowel or not."
   ]
  },
  {
   "cell_type": "code",
   "execution_count": 68,
   "metadata": {},
   "outputs": [
    {
     "name": "stdin",
     "output_type": "stream",
     "text": [
      "Enter a character -  ae\n"
     ]
    },
    {
     "name": "stdout",
     "output_type": "stream",
     "text": [
      "ae is Vowel\n"
     ]
    }
   ],
   "source": [
    "ch = input(\"Enter a character - \")\n",
    "if ch.lower() in \"aeiou\" :\n",
    "    print(f\"{ch} is Vowel\")\n",
    "else:\n",
    "    print(f\"{ch} is Consonant\")"
   ]
  },
  {
   "cell_type": "markdown",
   "metadata": {},
   "source": [
    "###### Ex. WAP to check if it is a single character then print vowel or not"
   ]
  },
  {
   "cell_type": "code",
   "execution_count": 66,
   "metadata": {},
   "outputs": [
    {
     "name": "stdin",
     "output_type": "stream",
     "text": [
      "Enter a character -  1\n"
     ]
    },
    {
     "name": "stdout",
     "output_type": "stream",
     "text": [
      "You have entered more than 1 characters\n"
     ]
    }
   ],
   "source": [
    "ch = input(\"Enter a character - \")\n",
    "if (len(ch) == 1) and (ch.isalpha()):\n",
    "    if ch.lower() in \"aeiou\" :  # ch == \"a\" or ch == \"e\"\n",
    "        print(f\"{ch} is Vowel\")\n",
    "    else:\n",
    "        print(f\"{ch} is Consonant\")\n",
    "else:\n",
    "    print(\"You have entered more than 1 characters\")"
   ]
  },
  {
   "cell_type": "code",
   "execution_count": null,
   "metadata": {},
   "outputs": [],
   "source": [
    "print(dir(__builtins__))"
   ]
  },
  {
   "cell_type": "code",
   "execution_count": null,
   "metadata": {},
   "outputs": [],
   "source": [
    "help(len)"
   ]
  },
  {
   "cell_type": "markdown",
   "metadata": {},
   "source": [
    "###### Ex. Toss a coin and guess the outcome\n",
    "\n",
    "WAP to simulate coin toss and compare the outcome with guess made by user. The program must return \"Invalid input\" if user enters a wrong or invalid value as a guess.\n",
    "\n",
    "1. Take guess as input from user - heads or tails\n",
    "2. validate the guess\n",
    "3. if valide guess then generate outcome randonly(assume as heads)\n",
    "4. if guess == outcome - wins else loose\n",
    "5. print \"invalid\" for invalid guess"
   ]
  },
  {
   "cell_type": "code",
   "execution_count": 102,
   "metadata": {},
   "outputs": [
    {
     "name": "stdin",
     "output_type": "stream",
     "text": [
      "Enter your guess as 'heads' or 'tails' heads\n"
     ]
    },
    {
     "name": "stdout",
     "output_type": "stream",
     "text": [
      "Outcome -  tails\n",
      "lost\n"
     ]
    }
   ],
   "source": [
    "import random as r\n",
    "guess = input(\"Enter your guess as 'heads' or 'tails'\").lower()\n",
    "options = [\"heads\", \"tails\"]\n",
    "if guess in options :\n",
    "    outcome = r.choice(options)\n",
    "    print(\"Outcome - \", outcome)\n",
    "    if guess == outcome :\n",
    "        print(\"Win\")\n",
    "    else:\n",
    "        print(\"lost\")\n",
    "else:\n",
    "    print(\"invalid guess\")"
   ]
  },
  {
   "cell_type": "code",
   "execution_count": 78,
   "metadata": {},
   "outputs": [
    {
     "data": {
      "text/plain": [
       "2"
      ]
     },
     "execution_count": 78,
     "metadata": {},
     "output_type": "execute_result"
    }
   ],
   "source": [
    "import random as r\n",
    "r.randint(1, 6)"
   ]
  },
  {
   "cell_type": "code",
   "execution_count": 85,
   "metadata": {},
   "outputs": [
    {
     "data": {
      "text/plain": [
       "0.14367871586299075"
      ]
     },
     "execution_count": 85,
     "metadata": {},
     "output_type": "execute_result"
    }
   ],
   "source": [
    "r.random()"
   ]
  },
  {
   "cell_type": "code",
   "execution_count": 92,
   "metadata": {},
   "outputs": [
    {
     "data": {
      "text/plain": [
       "'d'"
      ]
     },
     "execution_count": 92,
     "metadata": {},
     "output_type": "execute_result"
    }
   ],
   "source": [
    "r.choice(\"abcd\")"
   ]
  },
  {
   "cell_type": "code",
   "execution_count": 100,
   "metadata": {},
   "outputs": [
    {
     "data": {
      "text/plain": [
       "'tails'"
      ]
     },
     "execution_count": 100,
     "metadata": {},
     "output_type": "execute_result"
    }
   ],
   "source": [
    "r.choice(options)"
   ]
  },
  {
   "cell_type": "code",
   "execution_count": 103,
   "metadata": {},
   "outputs": [
    {
     "name": "stdout",
     "output_type": "stream",
     "text": [
      "['BPF', 'LOG4', 'NV_MAGICCONST', 'RECIP_BPF', 'Random', 'SG_MAGICCONST', 'SystemRandom', 'TWOPI', '_ONE', '_Sequence', '__all__', '__builtins__', '__cached__', '__doc__', '__file__', '__loader__', '__name__', '__package__', '__spec__', '_accumulate', '_acos', '_bisect', '_ceil', '_cos', '_e', '_exp', '_fabs', '_floor', '_index', '_inst', '_isfinite', '_lgamma', '_log', '_log2', '_os', '_pi', '_random', '_repeat', '_sha512', '_sin', '_sqrt', '_test', '_test_generator', '_urandom', '_warn', 'betavariate', 'binomialvariate', 'choice', 'choices', 'expovariate', 'gammavariate', 'gauss', 'getrandbits', 'getstate', 'lognormvariate', 'normalvariate', 'paretovariate', 'randbytes', 'randint', 'random', 'randrange', 'sample', 'seed', 'setstate', 'shuffle', 'triangular', 'uniform', 'vonmisesvariate', 'weibullvariate']\n"
     ]
    }
   ],
   "source": [
    "print(dir(r))"
   ]
  },
  {
   "cell_type": "markdown",
   "metadata": {},
   "source": [
    "###### Ex. 7up and 7down\n",
    "\n",
    "WAP to simulate the below mentioned scenario -\n",
    "\n",
    "1. Player enters the game with initial amount as Rs. 1,000/- \n",
    "2. Generate a random value between 1 to 14 and store it in variable \"outcome\"\n",
    "3. if outcome = 7, player hits a jackpot and wins Rs. 1,00,00,000.\n",
    "4. if outcome < 7, player looses amount by (outcome*100)\n",
    "5. if outcome > 7, player earns amount by (outcome*100)\n",
    "6. Print the final amount with the player."
   ]
  },
  {
   "cell_type": "code",
   "execution_count": 120,
   "metadata": {},
   "outputs": [
    {
     "name": "stdout",
     "output_type": "stream",
     "text": [
      "Your Score -  6\n",
      "Final Balance - 400\n"
     ]
    }
   ],
   "source": [
    "import random as r\n",
    "amt = 1000\n",
    "outcome = r.randint(1, 14)\n",
    "print(\"Your Score - \", outcome)\n",
    "\n",
    "if outcome < 7 :\n",
    "    amt -= (outcome * 100)  # amt = amt - (outcome * 100)\n",
    "elif outcome > 7 :\n",
    "    amt += (outcome * 100)  # amt = amt + (outcome * 100)\n",
    "else:\n",
    "    print(\"You have hit the jackpot\")\n",
    "    amt += 1000000\n",
    "print(\"Final Balance -\", amt)"
   ]
  },
  {
   "cell_type": "markdown",
   "metadata": {},
   "source": [
    "<hr><hr>"
   ]
  },
  {
   "attachments": {},
   "cell_type": "markdown",
   "metadata": {},
   "source": [
    "## Loops/Iteration\n",
    "\n",
    "Loops are used to execute of a specific block of code in repetitively\n",
    "\n",
    "### while loop\n",
    "- The ‘while loop’ in Python is used to iterate over a block of code as long as the test expression holds true\n",
    "- Event based loop\n",
    "- Event occurring inside the loop determines the number of iterations\n",
    "- This loop is used when the number of times to iterate is not known to us beforehand\n",
    "\n",
    "\n",
    "### for loop\n",
    "- The ‘for loop’ in Python is used to iterate over the items of a sequence object like list, tuple, string and other iterable objects\n",
    "- The iteration continues until we reach the last item in the sequence object\n",
    "- Counter driven loop\n",
    "- This loop is used when the number of times to iterate is predefined\n",
    "\n",
    "#### break statement\n",
    "- The ‘break’ statement ends the loop and resumes execution at the next statement\n",
    "- The break statement can be used in both ‘while’ loop and ‘for’ loop\n",
    "- It is always used with conditional statements\n",
    "\n",
    "#### continue statement\n",
    "- The ‘continue’ statement in Python ignores all the remaining statements in the iteration of the current loop and moves the control back to the beginning of the loop\n",
    "- The continue statement can be used in both ‘while’ loop and ‘for’ loop\n",
    "- It is always used with conditional statements\n",
    "\n",
    "<br><br>"
   ]
  },
  {
   "cell_type": "markdown",
   "metadata": {},
   "source": [
    "#### Examples - "
   ]
  },
  {
   "cell_type": "markdown",
   "metadata": {},
   "source": [
    "###### Ex. Modify the 7up 7down program based on following rules - \n",
    "\n",
    "- Ask user his choice to play again as `yes/no`.\n",
    "- First round starts with amount balance as Rs. 1000. However, further rounds will be played on the balance amount generated from previous round. Example - in round 1 user earned Rs. 800. So for his next round amount will be Rs. 1,800 which is balance generated in previous round.\n",
    "- The game will terminate if user -\n",
    "    - choice to play again is `no`\n",
    "    - hits the `jackpot`\n",
    "    - has insufficient funds to play the next round."
   ]
  },
  {
   "cell_type": "code",
   "execution_count": 132,
   "metadata": {},
   "outputs": [
    {
     "name": "stdout",
     "output_type": "stream",
     "text": [
      "Your Score -  4\n",
      "Insufficient Balance of Rs. 600. To continue top-up with 1000\n"
     ]
    },
    {
     "name": "stdin",
     "output_type": "stream",
     "text": [
      "Do you wish to top-up? yes/no no\n"
     ]
    },
    {
     "name": "stdout",
     "output_type": "stream",
     "text": [
      "Final Balance - 600\n"
     ]
    }
   ],
   "source": [
    "import random as r\n",
    "amt = 1000\n",
    "choice = \"yes\"\n",
    "\n",
    "while choice == \"yes\" :    \n",
    "    outcome = r.randint(1, 14)\n",
    "    print(\"Your Score - \", outcome)\n",
    "    \n",
    "    if outcome < 7 :\n",
    "        amt -= (outcome * 100)  # amt = amt - (outcome * 100)\n",
    "    elif outcome > 7 :\n",
    "        amt += (outcome * 100)  # amt = amt + (outcome * 100)\n",
    "    else:\n",
    "        print(\"You have hit the jackpot\")\n",
    "        amt += 1000000\n",
    "        break\n",
    "\n",
    "    if amt <= 600 :\n",
    "        print(f\"Insufficient Balance of Rs. {amt}. To continue top-up with 1000\")\n",
    "        choice = input(\"Do you wish to top-up? yes/no\").lower()\n",
    "        if choice == \"yes\" :\n",
    "            amt += 1000\n",
    "            print(f\"Your balace after top-up - {amt}\")\n",
    "            continue\n",
    "        break\n",
    "\n",
    "    print(f\"Your current balance is - {amt}.\")\n",
    "    choice = input(\"Do you wish to continue? yes/no - \").lower()\n",
    "        \n",
    "print(\"Final Balance -\", amt)"
   ]
  },
  {
   "cell_type": "markdown",
   "metadata": {},
   "source": [
    "###### Ex. WAP to print square of numbers in the given list"
   ]
  },
  {
   "cell_type": "code",
   "execution_count": 136,
   "metadata": {},
   "outputs": [
    {
     "name": "stdout",
     "output_type": "stream",
     "text": [
      "2  -  4\n",
      "4  -  16\n"
     ]
    }
   ],
   "source": [
    "numbers = [1, 2, 3, 4]\n",
    "for i in numbers :\n",
    "    if i % 2 == 0 :\n",
    "        print(i, \" - \", i**2)"
   ]
  },
  {
   "cell_type": "markdown",
   "metadata": {},
   "source": [
    "###### Ex. WAP to accept a word from user and print vowels in the word"
   ]
  },
  {
   "cell_type": "code",
   "execution_count": 149,
   "metadata": {},
   "outputs": [
    {
     "name": "stdin",
     "output_type": "stream",
     "text": [
      "Enter a word -  mississippi\n"
     ]
    },
    {
     "name": "stdout",
     "output_type": "stream",
     "text": [
      "i, "
     ]
    }
   ],
   "source": [
    "word = input(\"Enter a word - \")\n",
    "for ch in set(word) :\n",
    "    if ch in \"aeiou\" :\n",
    "        print(ch, end = \", \") # default - end = \"\\n\" new line character"
   ]
  },
  {
   "cell_type": "code",
   "execution_count": 148,
   "metadata": {},
   "outputs": [
    {
     "data": {
      "text/plain": [
       "{'i', 'm', 'p', 's'}"
      ]
     },
     "execution_count": 148,
     "metadata": {},
     "output_type": "execute_result"
    }
   ],
   "source": [
    "set(word) # removes duplicate"
   ]
  },
  {
   "cell_type": "code",
   "execution_count": 151,
   "metadata": {},
   "outputs": [
    {
     "name": "stdin",
     "output_type": "stream",
     "text": [
      "Enter a word -  mississippi\n"
     ]
    },
    {
     "name": "stdout",
     "output_type": "stream",
     "text": [
      "i, "
     ]
    }
   ],
   "source": [
    "word = input(\"Enter a word - \")\n",
    "for ch in \"aeiou\" :\n",
    "    if ch in word :\n",
    "        print(ch, end = \", \") "
   ]
  },
  {
   "cell_type": "markdown",
   "metadata": {},
   "source": [
    "#### range( `[start], stop, [step]`)\n",
    "\n",
    "- `start` - Optional. An integer number specifying at which position to start. Default is 0\n",
    "- `stop` - Required. An integer number specifying at which position to end.\u000b",
    "\n",
    "\n",
    "\n",
    "- `step` - Optional. An integer number specifying the incrementation. Default is 1"
   ]
  },
  {
   "cell_type": "code",
   "execution_count": 153,
   "metadata": {},
   "outputs": [
    {
     "name": "stdout",
     "output_type": "stream",
     "text": [
      "1 2 3 4 5 6 7 8 9 10 "
     ]
    }
   ],
   "source": [
    "for i in range(1, 11):\n",
    "    print(i, end = \" \")"
   ]
  },
  {
   "cell_type": "code",
   "execution_count": 154,
   "metadata": {},
   "outputs": [
    {
     "name": "stdout",
     "output_type": "stream",
     "text": [
      "1 3 5 7 9 11 13 15 17 19 "
     ]
    }
   ],
   "source": [
    "for i in range(1, 20, 2):\n",
    "    print(i, end = \" \")"
   ]
  },
  {
   "cell_type": "code",
   "execution_count": 155,
   "metadata": {},
   "outputs": [
    {
     "name": "stdout",
     "output_type": "stream",
     "text": [
      "0 1 2 3 4 5 6 7 8 9 10 "
     ]
    }
   ],
   "source": [
    "for i in range(11):\n",
    "    print(i, end = \" \")"
   ]
  },
  {
   "cell_type": "code",
   "execution_count": 157,
   "metadata": {},
   "outputs": [
    {
     "name": "stdout",
     "output_type": "stream",
     "text": [
      "10 9 8 7 6 5 4 3 2 1 "
     ]
    }
   ],
   "source": [
    "for i in range(10, 0, -1):\n",
    "    print(i, end = \" \")"
   ]
  },
  {
   "cell_type": "markdown",
   "metadata": {},
   "source": [
    "##### Note - range() generates a sequence object of collection of int"
   ]
  },
  {
   "cell_type": "code",
   "execution_count": 158,
   "metadata": {},
   "outputs": [
    {
     "data": {
      "text/plain": [
       "range(1, 11)"
      ]
     },
     "execution_count": 158,
     "metadata": {},
     "output_type": "execute_result"
    }
   ],
   "source": [
    "range(1, 11)"
   ]
  },
  {
   "cell_type": "markdown",
   "metadata": {},
   "source": [
    "###### Ex. WAP to perform summation and product of first 10 natural numbers"
   ]
  },
  {
   "cell_type": "code",
   "execution_count": 159,
   "metadata": {},
   "outputs": [
    {
     "name": "stdout",
     "output_type": "stream",
     "text": [
      "Total = 55 and Product = 3628800\n"
     ]
    }
   ],
   "source": [
    "total = 0\n",
    "product = 1\n",
    "for i in range(1, 11) :\n",
    "    total += i\n",
    "    product *= i\n",
    "print(f\"Total = {total} and Product = {product}\")"
   ]
  },
  {
   "cell_type": "code",
   "execution_count": 160,
   "metadata": {},
   "outputs": [
    {
     "data": {
      "text/plain": [
       "55"
      ]
     },
     "execution_count": 160,
     "metadata": {},
     "output_type": "execute_result"
    }
   ],
   "source": [
    "sum(range(1, 11))"
   ]
  },
  {
   "cell_type": "code",
   "execution_count": 161,
   "metadata": {},
   "outputs": [
    {
     "data": {
      "text/plain": [
       "3628800"
      ]
     },
     "execution_count": 161,
     "metadata": {},
     "output_type": "execute_result"
    }
   ],
   "source": [
    "import math\n",
    "math.prod(range(1, 11))"
   ]
  },
  {
   "cell_type": "markdown",
   "metadata": {},
   "source": [
    "###### WAP to take a number as input and print the multiplication table of the number "
   ]
  },
  {
   "cell_type": "code",
   "execution_count": null,
   "metadata": {},
   "outputs": [],
   "source": [
    "3 x 1 = 3\n",
    "3 x 2 = 6\n",
    ".\n",
    ".\n",
    "3 x 10 = 30"
   ]
  },
  {
   "cell_type": "code",
   "execution_count": 163,
   "metadata": {},
   "outputs": [
    {
     "name": "stdin",
     "output_type": "stream",
     "text": [
      "Enter a number -  3\n"
     ]
    },
    {
     "name": "stdout",
     "output_type": "stream",
     "text": [
      "3 x 1 = 3\n",
      "3 x 2 = 6\n",
      "3 x 3 = 9\n",
      "3 x 4 = 12\n",
      "3 x 5 = 15\n",
      "3 x 6 = 18\n",
      "3 x 7 = 21\n",
      "3 x 8 = 24\n",
      "3 x 9 = 27\n",
      "3 x 10 = 30\n"
     ]
    }
   ],
   "source": [
    "num = int(input(\"Enter a number - \"))\n",
    "for i in range(1, 11):\n",
    "    print(f\"{num} x {i} = {num*i}\")"
   ]
  },
  {
   "cell_type": "markdown",
   "metadata": {},
   "source": [
    "###### Ex. WAP to calculate total amount credited to the account and total amount debited from account based on following transactions -"
   ]
  },
  {
   "cell_type": "code",
   "execution_count": 167,
   "metadata": {},
   "outputs": [
    {
     "name": "stdout",
     "output_type": "stream",
     "text": [
      "Total Credits - 6500 and Total Debits - 1800\n"
     ]
    }
   ],
   "source": [
    "transactions = [2000, -500, 1500, -1200, -100, 3000]\n",
    "total_crdit = 0\n",
    "total_debit = 0\n",
    "for value in transactions :\n",
    "    if value > 0 :\n",
    "        total_crdit += value\n",
    "    else:\n",
    "        total_debit += abs(value)\n",
    "\n",
    "print(f\"Total Credits - {total_crdit} and Total Debits - {total_debit}\")\n"
   ]
  },
  {
   "cell_type": "markdown",
   "metadata": {},
   "source": [
    "<hr><hr>"
   ]
  },
  {
   "cell_type": "markdown",
   "metadata": {},
   "source": [
    "## Sequence objects or Iterables\n",
    "- collection of elements - str, range(), enumerate(), zip(), map(), filter()\n",
    "- Container sequences/Objects  - list, tuple, dict, set\n",
    "- Note -  range(), enumerate(), zip(), map(), filter() - these are generating non-readable output when printed.\n",
    "- Note - Any sequence can be converted to list/tuple\n",
    " \n",
    "#### `Operations on Generic Sequences`\n",
    "    - Membership - in | not in\n",
    "    - Iteration - for-loop`\n",
    "\n",
    "#### `Operations on Ordered/Indexed Sequences`\n",
    "    - Indexing - obj[index_pos]\n",
    "    - Slicing - obj[start : stop]\n",
    "    - Concatenation - `+` operator\n",
    "    - Repeatition - `*` operator\n",
    "\n",
    "#### `Functions on Generic Sequences`\n",
    "     - len() - gives the number of elements in the sequence\n",
    "     - max() - gives the largest element in the sequence\n",
    "     - min() - gives the smallest element in the sequence\n",
    "     - sum() - applicable to numeric sequences, returns the sum of all elements in the sequence\n",
    "     - math.prod() - applicable to numeric sequences, returns the product of all elements in the sequence\n",
    "     - sorted() - sorts the elements in the sequence in ASC order and returns a list object\n",
    "     \n",
    "\n",
    "### Python Sequences and Containers\n",
    "   \n",
    "<table style=\"width: 100%; border-collapse: collapse; border: 1px solid #ccc; text-align: center;\">\n",
    "  <thead>\n",
    "    <tr style=\"background-color: #050A30; color: white;\">\n",
    "      <th style=\"border: 1px solid #ccc; padding: 8px;\">Object</th>\n",
    "      <th style=\"border: 1px solid #ccc; padding: 8px;\">Container Object</th>\n",
    "      <th style=\"border: 1px solid #ccc; padding: 8px;\">Sequence Type</th>\n",
    "      <th style=\"border: 1px solid #ccc; padding: 8px;\">Element Type</th>\n",
    "      <th style=\"border: 1px solid #ccc; padding: 8px;\">Enclosed in</th>\n",
    "      <th style=\"border: 1px solid #ccc; padding: 8px;\">Immutability</th>\n",
    "      <th style=\"border: 1px solid #ccc; padding: 8px;\">Duplicates</th>\n",
    "    </tr>\n",
    "  </thead>\n",
    "  <tbody>\n",
    "    <tr>\n",
    "      <td style=\"border: 1px solid #ccc; padding: 8px;\">str()</td>\n",
    "      <td style=\"border: 1px solid #ccc; padding: 8px;\">No</td>\n",
    "      <td style=\"border: 1px solid #ccc; padding: 8px;\">ordered/indexed</td>\n",
    "      <td style=\"border: 1px solid #ccc; padding: 8px;\">characters</td>\n",
    "      <td style=\"border: 1px solid #ccc; padding: 8px;\">\"\" or ''</td>\n",
    "      <td style=\"border: 1px solid #ccc; padding: 8px;\">Yes</td>\n",
    "      <td style=\"border: 1px solid #ccc; padding: 8px;\">Yes</td>\n",
    "    </tr>\n",
    "    <tr>\n",
    "      <td style=\"border: 1px solid #ccc; padding: 8px;\">tuple()</td>\n",
    "      <td style=\"border: 1px solid #ccc; padding: 8px;\">Yes</td>\n",
    "      <td style=\"border: 1px solid #ccc; padding: 8px;\">ordered/indexed</td>\n",
    "      <td style=\"border: 1px solid #ccc; padding: 8px;\">mixed data (heterogeneous)</td>\n",
    "      <td style=\"border: 1px solid #ccc; padding: 8px;\">()</td>\n",
    "      <td style=\"border: 1px solid #ccc; padding: 8px;\">Yes</td>\n",
    "      <td style=\"border: 1px solid #ccc; padding: 8px;\">Yes</td>\n",
    "    </tr>\n",
    "    <tr>\n",
    "      <td style=\"border: 1px solid #ccc; padding: 8px;\">list()</td>\n",
    "      <td style=\"border: 1px solid #ccc; padding: 8px;\">Yes</td>\n",
    "      <td style=\"border: 1px solid #ccc; padding: 8px;\">ordered/indexed</td>\n",
    "      <td style=\"border: 1px solid #ccc; padding: 8px;\">mixed data (heterogeneous)</td>\n",
    "      <td style=\"border: 1px solid #ccc; padding: 8px;\">[]</td>\n",
    "      <td style=\"border: 1px solid #ccc; padding: 8px;\">No</td>\n",
    "      <td style=\"border: 1px solid #ccc; padding: 8px;\">Yes</td>\n",
    "    </tr>\n",
    "    <tr>\n",
    "      <td style=\"border: 1px solid #ccc; padding: 8px;\">set()</td>\n",
    "      <td style=\"border: 1px solid #ccc; padding: 8px;\">Yes</td>\n",
    "      <td style=\"border: 1px solid #ccc; padding: 8px;\">unordered</td>\n",
    "      <td style=\"border: 1px solid #ccc; padding: 8px;\">heterogeneous (immutable objects)</td>\n",
    "      <td style=\"border: 1px solid #ccc; padding: 8px;\">{}</td>\n",
    "      <td style=\"border: 1px solid #ccc; padding: 8px;\">No</td>\n",
    "      <td style=\"border: 1px solid #ccc; padding: 8px;\">No</td>\n",
    "    </tr>\n",
    "    <tr>\n",
    "      <td style=\"border: 1px solid #ccc; padding: 8px;\">dict()</td>\n",
    "      <td style=\"border: 1px solid #ccc; padding: 8px;\">Yes</td>\n",
    "      <td style=\"border: 1px solid #ccc; padding: 8px;\">unordered</td>\n",
    "      <td style=\"border: 1px solid #ccc; padding: 8px;\">Key - immutable<br>Value - any type</td>\n",
    "      <td style=\"border: 1px solid #ccc; padding: 8px;\">{}</td>\n",
    "      <td style=\"border: 1px solid #ccc; padding: 8px;\">No</td>\n",
    "      <td style=\"border: 1px solid #ccc; padding: 8px;\">Key - No<br>Value - Yes</td>\n",
    "    </tr>\n"
   ]
  },
  {
   "cell_type": "markdown",
   "metadata": {},
   "source": [
    "<hr><hr>"
   ]
  },
  {
   "cell_type": "markdown",
   "metadata": {},
   "source": [
    "# Strings in Python \n",
    "\n",
    "#### Strings are -\n",
    "- an ordered sequence of characters\n",
    "- enclosed in a pair of single quotes or pair of double quotes\n",
    "- immutable\n"
   ]
  },
  {
   "cell_type": "markdown",
   "metadata": {},
   "source": [
    "#### Empty string"
   ]
  },
  {
   "cell_type": "code",
   "execution_count": null,
   "metadata": {},
   "outputs": [],
   "source": [
    "string = ''\n",
    "\n",
    "string = \"\""
   ]
  },
  {
   "cell_type": "markdown",
   "metadata": {},
   "source": [
    "##### Note - bool() of empty str is always False"
   ]
  },
  {
   "cell_type": "code",
   "execution_count": 171,
   "metadata": {},
   "outputs": [
    {
     "name": "stdin",
     "output_type": "stream",
     "text": [
      "Enter a word  \n"
     ]
    },
    {
     "name": "stdout",
     "output_type": "stream",
     "text": [
      " \n"
     ]
    }
   ],
   "source": [
    "strg = input(\"Enter a word\")\n",
    "if strg :\n",
    "    print(strg)\n",
    "else:\n",
    "    print(\"Empty string\")"
   ]
  },
  {
   "cell_type": "markdown",
   "metadata": {},
   "source": [
    "### Operations on strings\n",
    "\n",
    "- Indexing\n",
    "- Slicing\n",
    "- Concatenation\n",
    "- Repeatition\n",
    "- Membership\n",
    "- Iteration"
   ]
  },
  {
   "cell_type": "markdown",
   "metadata": {},
   "source": [
    "#### Indexing in Strings\n",
    "- Each character in a string has a unique index, starting from 0 for the first character up to n-1 for the last character, where n is the length of the string.\n",
    "\n",
    "- **Positive Indexing** - Positive indexing starts from 0 and goes up to n-1.\n",
    "    - Index 0 corresponds to the first character.\n",
    "    - Index 1 corresponds to the second character, and so on.\n",
    "      \n",
    "- **Negative Indexing** - Negative indexing starts from -1 for the last character and goes up to -n for the first character.\n",
    "    - Index -1 corresponds to the last character.\n",
    "    - Index -2 corresponds to the second last character, and so on.\n",
    "      \n",
    "- **Accessing Substrings** - You can also use slicing to access substrings. The syntax for slicing is `string[start:stop:step]` , where:\n",
    "    - start is the starting index (inclusive).\n",
    "    - stop is the ending index (exclusive).\n",
    "    - step is the step size (optional)."
   ]
  },
  {
   "cell_type": "markdown",
   "metadata": {},
   "source": [
    "#### Examples - "
   ]
  },
  {
   "cell_type": "code",
   "execution_count": 172,
   "metadata": {},
   "outputs": [],
   "source": [
    "string = \"I had a great trip to ibizza\""
   ]
  },
  {
   "cell_type": "markdown",
   "metadata": {},
   "source": [
    "###### Extract first element from the string"
   ]
  },
  {
   "cell_type": "code",
   "execution_count": 173,
   "metadata": {},
   "outputs": [
    {
     "data": {
      "text/plain": [
       "'I'"
      ]
     },
     "execution_count": 173,
     "metadata": {},
     "output_type": "execute_result"
    }
   ],
   "source": [
    "string[0]"
   ]
  },
  {
   "cell_type": "markdown",
   "metadata": {},
   "source": [
    "###### Extract 5th element from the string"
   ]
  },
  {
   "cell_type": "code",
   "execution_count": 174,
   "metadata": {},
   "outputs": [
    {
     "data": {
      "text/plain": [
       "'d'"
      ]
     },
     "execution_count": 174,
     "metadata": {},
     "output_type": "execute_result"
    }
   ],
   "source": [
    "string[4]"
   ]
  },
  {
   "cell_type": "markdown",
   "metadata": {},
   "source": [
    "###### Ex. Extract last element from the string"
   ]
  },
  {
   "cell_type": "code",
   "execution_count": 175,
   "metadata": {},
   "outputs": [
    {
     "data": {
      "text/plain": [
       "'a'"
      ]
     },
     "execution_count": 175,
     "metadata": {},
     "output_type": "execute_result"
    }
   ],
   "source": [
    "string[-1]"
   ]
  },
  {
   "cell_type": "markdown",
   "metadata": {},
   "source": [
    "###### Ex. Extract first 3 characters from string"
   ]
  },
  {
   "cell_type": "code",
   "execution_count": 177,
   "metadata": {},
   "outputs": [
    {
     "data": {
      "text/plain": [
       "'I h'"
      ]
     },
     "execution_count": 177,
     "metadata": {},
     "output_type": "execute_result"
    }
   ],
   "source": [
    "string[0 : 3]"
   ]
  },
  {
   "cell_type": "markdown",
   "metadata": {},
   "source": [
    "###### Ex. Extract all characters from index position 3"
   ]
  },
  {
   "cell_type": "code",
   "execution_count": 180,
   "metadata": {},
   "outputs": [
    {
     "data": {
      "text/plain": [
       "'ad a great trip to ibizza'"
      ]
     },
     "execution_count": 180,
     "metadata": {},
     "output_type": "execute_result"
    }
   ],
   "source": [
    "string[3:]"
   ]
  },
  {
   "cell_type": "markdown",
   "metadata": {},
   "source": [
    "###### Ex. Extract last 4 characters from the string"
   ]
  },
  {
   "cell_type": "code",
   "execution_count": 184,
   "metadata": {},
   "outputs": [
    {
     "data": {
      "text/plain": [
       "'izza'"
      ]
     },
     "execution_count": 184,
     "metadata": {},
     "output_type": "execute_result"
    }
   ],
   "source": [
    "string[-4 : ]"
   ]
  },
  {
   "cell_type": "markdown",
   "metadata": {},
   "source": [
    "###### Reverse of string"
   ]
  },
  {
   "cell_type": "code",
   "execution_count": 185,
   "metadata": {},
   "outputs": [
    {
     "data": {
      "text/plain": [
       "'Ihdagetti oiiz'"
      ]
     },
     "execution_count": 185,
     "metadata": {},
     "output_type": "execute_result"
    }
   ],
   "source": [
    "string[ : : 2]"
   ]
  },
  {
   "cell_type": "code",
   "execution_count": 188,
   "metadata": {},
   "outputs": [
    {
     "data": {
      "text/plain": [
       "'azzibi ot pirt taerg a dah I'"
      ]
     },
     "execution_count": 188,
     "metadata": {},
     "output_type": "execute_result"
    }
   ],
   "source": [
    "string[::-1]"
   ]
  },
  {
   "cell_type": "markdown",
   "metadata": {},
   "source": [
    "#### `Concatenation` - merging two strings into a single object using the + operator."
   ]
  },
  {
   "cell_type": "code",
   "execution_count": 189,
   "metadata": {},
   "outputs": [
    {
     "data": {
      "text/plain": [
       "'abcpqr'"
      ]
     },
     "execution_count": 189,
     "metadata": {},
     "output_type": "execute_result"
    }
   ],
   "source": [
    "\"abc\" + \"pqr\""
   ]
  },
  {
   "cell_type": "markdown",
   "metadata": {},
   "source": [
    "#### `Repetition` - The repetition operator * will make multiple copies of that particular object and combines them together. "
   ]
  },
  {
   "cell_type": "code",
   "execution_count": 190,
   "metadata": {},
   "outputs": [
    {
     "data": {
      "text/plain": [
       "'abcabcabc'"
      ]
     },
     "execution_count": 190,
     "metadata": {},
     "output_type": "execute_result"
    }
   ],
   "source": [
    "\"abc\" * 3"
   ]
  },
  {
   "cell_type": "markdown",
   "metadata": {},
   "source": [
    "###### Strings are immutable and cannot be modified"
   ]
  },
  {
   "cell_type": "code",
   "execution_count": 191,
   "metadata": {},
   "outputs": [
    {
     "data": {
      "text/plain": [
       "'a'"
      ]
     },
     "execution_count": 191,
     "metadata": {},
     "output_type": "execute_result"
    }
   ],
   "source": [
    "strg = \"abcd\"\n",
    "strg[0]"
   ]
  },
  {
   "cell_type": "code",
   "execution_count": 192,
   "metadata": {},
   "outputs": [
    {
     "ename": "TypeError",
     "evalue": "'str' object does not support item assignment",
     "output_type": "error",
     "traceback": [
      "\u001b[31m---------------------------------------------------------------------------\u001b[39m",
      "\u001b[31mTypeError\u001b[39m                                 Traceback (most recent call last)",
      "\u001b[36mCell\u001b[39m\u001b[36m \u001b[39m\u001b[32mIn[192]\u001b[39m\u001b[32m, line 1\u001b[39m\n\u001b[32m----> \u001b[39m\u001b[32m1\u001b[39m \u001b[43mstrg\u001b[49m\u001b[43m[\u001b[49m\u001b[32;43m0\u001b[39;49m\u001b[43m]\u001b[49m= \u001b[33m\"\u001b[39m\u001b[33mx\u001b[39m\u001b[33m\"\u001b[39m\n",
      "\u001b[31mTypeError\u001b[39m: 'str' object does not support item assignment"
     ]
    }
   ],
   "source": [
    "strg[0]= \"x\""
   ]
  },
  {
   "cell_type": "markdown",
   "metadata": {},
   "source": [
    "### Built-in Functions\n",
    "\n",
    "- **len()** - returns length of the string\n",
    "- **min(), max()**  - returns minimum and maximum element from the string\n",
    "- **sorted()** - sorts the characters of the string and returns a list"
   ]
  },
  {
   "cell_type": "code",
   "execution_count": 193,
   "metadata": {},
   "outputs": [
    {
     "data": {
      "text/plain": [
       "11"
      ]
     },
     "execution_count": 193,
     "metadata": {},
     "output_type": "execute_result"
    }
   ],
   "source": [
    "string = \"Mississippi\"\n",
    "\n",
    "len(string)"
   ]
  },
  {
   "cell_type": "code",
   "execution_count": 194,
   "metadata": {},
   "outputs": [
    {
     "data": {
      "text/plain": [
       "'M'"
      ]
     },
     "execution_count": 194,
     "metadata": {},
     "output_type": "execute_result"
    }
   ],
   "source": [
    "min(string)"
   ]
  },
  {
   "cell_type": "code",
   "execution_count": 195,
   "metadata": {},
   "outputs": [
    {
     "data": {
      "text/plain": [
       "'s'"
      ]
     },
     "execution_count": 195,
     "metadata": {},
     "output_type": "execute_result"
    }
   ],
   "source": [
    "max(string)"
   ]
  },
  {
   "cell_type": "code",
   "execution_count": 196,
   "metadata": {},
   "outputs": [
    {
     "data": {
      "text/plain": [
       "['M', 'i', 'i', 'i', 'i', 'p', 'p', 's', 's', 's', 's']"
      ]
     },
     "execution_count": 196,
     "metadata": {},
     "output_type": "execute_result"
    }
   ],
   "source": [
    "sorted(string) # returns a list object of characters sorted in ASC order"
   ]
  },
  {
   "cell_type": "code",
   "execution_count": 197,
   "metadata": {},
   "outputs": [
    {
     "data": {
      "text/plain": [
       "77"
      ]
     },
     "execution_count": 197,
     "metadata": {},
     "output_type": "execute_result"
    }
   ],
   "source": [
    "ord(\"M\") # ASCII value of the character"
   ]
  },
  {
   "cell_type": "code",
   "execution_count": 199,
   "metadata": {},
   "outputs": [
    {
     "data": {
      "text/plain": [
       "'M'"
      ]
     },
     "execution_count": 199,
     "metadata": {},
     "output_type": "execute_result"
    }
   ],
   "source": [
    "chr(77)  # Returns the character having the given ASCII value"
   ]
  },
  {
   "attachments": {},
   "cell_type": "markdown",
   "metadata": {},
   "source": [
    "### Strings Methods\n",
    "\n",
    "\n",
    "- **str.index(`obj`)** - returns index of the first occurence of the character\n",
    "- **str.count(`obj`)** - returns count of number of occurences of the charcter\n",
    "\n",
    "- **str.upper()** - returns string of uppercase characters\n",
    "- **str.lower()** - returns string of lowercase characters\n",
    "- **str.title()** - returns string of sentence case charaters\n",
    "\n",
    "- **str.isupper()** - checks if all characters are uppercase\n",
    "- **str.islower()** - checks if all characters are lowercase\n",
    "- **str.isdigit()** - checks if all characters are digits\n",
    "- **str.isalpha()** - checks if all characters are alphabets\n",
    "- **str.isalnum()** - checks if all characters are either alphabets or digits\n",
    "\n",
    "- **str.split(`delimiter`)** - splits the string on the mentioned delimiter and returns a list of obtained parts of the string\n",
    "- **str.replace(`str`, `str`)** - replaces all the mentioned characters with the specified string and returns a new string\n",
    "- **str.strip(`delimiter`)** - removes whitespace characters from start and end of the string (delimiter can also be specified)\n",
    "- **`delimiter`.join**(`sequence`) - it is called on a string object which acts as a delimiter to join all string elements in the sequence passed as an argument to join()\n",
    "\n"
   ]
  },
  {
   "cell_type": "code",
   "execution_count": 3,
   "metadata": {},
   "outputs": [],
   "source": [
    "strg = \"mississippi\""
   ]
  },
  {
   "cell_type": "code",
   "execution_count": 2,
   "metadata": {},
   "outputs": [
    {
     "data": {
      "text/plain": [
       "'MISSISSIPPI'"
      ]
     },
     "execution_count": 2,
     "metadata": {},
     "output_type": "execute_result"
    }
   ],
   "source": [
    "strg.upper()"
   ]
  },
  {
   "cell_type": "code",
   "execution_count": 4,
   "metadata": {},
   "outputs": [
    {
     "name": "stdout",
     "output_type": "stream",
     "text": [
      "['__add__', '__class__', '__contains__', '__delattr__', '__dir__', '__doc__', '__eq__', '__format__', '__ge__', '__getattribute__', '__getitem__', '__getnewargs__', '__getstate__', '__gt__', '__hash__', '__init__', '__init_subclass__', '__iter__', '__le__', '__len__', '__lt__', '__mod__', '__mul__', '__ne__', '__new__', '__reduce__', '__reduce_ex__', '__repr__', '__rmod__', '__rmul__', '__setattr__', '__sizeof__', '__str__', '__subclasshook__', 'capitalize', 'casefold', 'center', 'count', 'encode', 'endswith', 'expandtabs', 'find', 'format', 'format_map', 'index', 'isalnum', 'isalpha', 'isascii', 'isdecimal', 'isdigit', 'isidentifier', 'islower', 'isnumeric', 'isprintable', 'isspace', 'istitle', 'isupper', 'join', 'ljust', 'lower', 'lstrip', 'maketrans', 'partition', 'removeprefix', 'removesuffix', 'replace', 'rfind', 'rindex', 'rjust', 'rpartition', 'rsplit', 'rstrip', 'split', 'splitlines', 'startswith', 'strip', 'swapcase', 'title', 'translate', 'upper', 'zfill']\n"
     ]
    }
   ],
   "source": [
    "print(dir(str))"
   ]
  },
  {
   "cell_type": "code",
   "execution_count": 5,
   "metadata": {},
   "outputs": [],
   "source": [
    "strg = \"Have a nice day\""
   ]
  },
  {
   "cell_type": "code",
   "execution_count": 12,
   "metadata": {},
   "outputs": [
    {
     "data": {
      "text/plain": [
       "['H', 've ', ' nice d', 'y']"
      ]
     },
     "execution_count": 12,
     "metadata": {},
     "output_type": "execute_result"
    }
   ],
   "source": [
    "strg.split(\"a\") # default splits on space, returns a list of words"
   ]
  },
  {
   "cell_type": "code",
   "execution_count": 8,
   "metadata": {},
   "outputs": [
    {
     "data": {
      "text/plain": [
       "'H#ve # nice d#y'"
      ]
     },
     "execution_count": 8,
     "metadata": {},
     "output_type": "execute_result"
    }
   ],
   "source": [
    "strg.replace(\"a\", \"#\")"
   ]
  },
  {
   "cell_type": "code",
   "execution_count": 11,
   "metadata": {},
   "outputs": [
    {
     "data": {
      "text/plain": [
       "'2345   '"
      ]
     },
     "execution_count": 11,
     "metadata": {},
     "output_type": "execute_result"
    }
   ],
   "source": [
    "\"12345   \".strip()"
   ]
  },
  {
   "cell_type": "code",
   "execution_count": 13,
   "metadata": {},
   "outputs": [
    {
     "data": {
      "text/plain": [
       "'lion_tiger_horse'"
      ]
     },
     "execution_count": 13,
     "metadata": {},
     "output_type": "execute_result"
    }
   ],
   "source": [
    "lst = [\"lion\", \"tiger\", \"horse\"]\n",
    "\"_\".join(lst)"
   ]
  },
  {
   "cell_type": "markdown",
   "metadata": {},
   "source": [
    "#### Examples - "
   ]
  },
  {
   "cell_type": "markdown",
   "metadata": {},
   "source": [
    "###### Ex. WAP to convert the given string - \n",
    "\n",
    "<p><strong><span style=\"color: rgb(41, 105, 176);\">string = \"I am in Python class\"</span></strong></p>\n",
    "<p><strong>o/p -</strong> 'ssalc nohtyP ni ma I'</p>\n",
    "<p><strong>o/p -</strong> 'I Am In Python Class'</p>"
   ]
  },
  {
   "cell_type": "code",
   "execution_count": 14,
   "metadata": {},
   "outputs": [
    {
     "data": {
      "text/plain": [
       "'ssalc nohtyP ni ma I'"
      ]
     },
     "execution_count": 14,
     "metadata": {},
     "output_type": "execute_result"
    }
   ],
   "source": [
    "string = \"I am in Python class\"\n",
    "string[::-1]"
   ]
  },
  {
   "cell_type": "code",
   "execution_count": 15,
   "metadata": {},
   "outputs": [
    {
     "data": {
      "text/plain": [
       "'I Am In Python Class'"
      ]
     },
     "execution_count": 15,
     "metadata": {},
     "output_type": "execute_result"
    }
   ],
   "source": [
    "string.title()"
   ]
  },
  {
   "cell_type": "markdown",
   "metadata": {},
   "source": [
    "###### Ex. WAP to replace all vowels in a word with and asterisk."
   ]
  },
  {
   "cell_type": "code",
   "execution_count": 33,
   "metadata": {},
   "outputs": [
    {
     "name": "stdin",
     "output_type": "stream",
     "text": [
      "Enter a word -  singapore\n"
     ]
    },
    {
     "data": {
      "text/plain": [
       "'s*ng*p*r*'"
      ]
     },
     "execution_count": 33,
     "metadata": {},
     "output_type": "execute_result"
    }
   ],
   "source": [
    "word = input(\"Enter a word - \").lower()\n",
    "for ch in \"aeiouAEIOU\":\n",
    "    word = word.replace(ch, \"*\")\n",
    "word"
   ]
  },
  {
   "cell_type": "code",
   "execution_count": 30,
   "metadata": {},
   "outputs": [
    {
     "name": "stdin",
     "output_type": "stream",
     "text": [
      "Enter a word -  singapore\n"
     ]
    },
    {
     "data": {
      "text/plain": [
       "'s*ng*p*r*'"
      ]
     },
     "execution_count": 30,
     "metadata": {},
     "output_type": "execute_result"
    }
   ],
   "source": [
    "word = input(\"Enter a word - \").lower()\n",
    "trans_obj = str.maketrans(\"aeiou\", \"*****\")\n",
    "word.translate(trans_obj)"
   ]
  },
  {
   "cell_type": "code",
   "execution_count": 31,
   "metadata": {},
   "outputs": [
    {
     "name": "stdin",
     "output_type": "stream",
     "text": [
      "Enter a word -  singapore\n"
     ]
    },
    {
     "data": {
      "text/plain": [
       "'sIngApOrE'"
      ]
     },
     "execution_count": 31,
     "metadata": {},
     "output_type": "execute_result"
    }
   ],
   "source": [
    "word = input(\"Enter a word - \").lower()\n",
    "trans_obj = str.maketrans(\"aeiou\", \"AEIOU\")\n",
    "word.translate(trans_obj)"
   ]
  },
  {
   "cell_type": "code",
   "execution_count": 34,
   "metadata": {},
   "outputs": [
    {
     "name": "stdin",
     "output_type": "stream",
     "text": [
      "Enter a word -  singapore\n"
     ]
    },
    {
     "data": {
      "text/plain": [
       "'s!ng@p0r3'"
      ]
     },
     "execution_count": 34,
     "metadata": {},
     "output_type": "execute_result"
    }
   ],
   "source": [
    "word = input(\"Enter a word - \").lower()\n",
    "trans_obj = str.maketrans(\"aeiou\", \"@3!0^\")\n",
    "word.translate(trans_obj)"
   ]
  },
  {
   "cell_type": "markdown",
   "metadata": {},
   "source": [
    "###### Ex. WAP to convert the string value to int"
   ]
  },
  {
   "cell_type": "code",
   "execution_count": 38,
   "metadata": {},
   "outputs": [
    {
     "data": {
      "text/plain": [
       "'-1200/-'"
      ]
     },
     "execution_count": 38,
     "metadata": {},
     "output_type": "execute_result"
    }
   ],
   "source": [
    "profit = \"($1,200)/-\"  # -1200\n",
    "profit.replace(\"(\", \"-\").replace(\"$\", \"\").replace(\",\", \"\").replace(\")\", \"\")"
   ]
  },
  {
   "cell_type": "code",
   "execution_count": 40,
   "metadata": {},
   "outputs": [
    {
     "data": {
      "text/plain": [
       "'-1200'"
      ]
     },
     "execution_count": 40,
     "metadata": {},
     "output_type": "execute_result"
    }
   ],
   "source": [
    "trans_obj = str.maketrans(\"(\", \"-\",\"$,)/-\")\n",
    "profit.translate(trans_obj)"
   ]
  },
  {
   "cell_type": "code",
   "execution_count": 42,
   "metadata": {},
   "outputs": [
    {
     "data": {
      "text/plain": [
       "'($1,200)/-'"
      ]
     },
     "execution_count": 42,
     "metadata": {},
     "output_type": "execute_result"
    }
   ],
   "source": [
    "profit"
   ]
  },
  {
   "cell_type": "markdown",
   "metadata": {},
   "source": [
    "###### Ex. WAP to accept numbers from user in comma seperated format. Extract the integers and perform their summation"
   ]
  },
  {
   "cell_type": "code",
   "execution_count": 43,
   "metadata": {},
   "outputs": [
    {
     "name": "stdin",
     "output_type": "stream",
     "text": [
      "Enter numbers in comma seperated format -  1,2,3,4,5\n"
     ]
    },
    {
     "name": "stdout",
     "output_type": "stream",
     "text": [
      "15\n"
     ]
    }
   ],
   "source": [
    "numbers = input(\"Enter numbers in comma seperated format - \")\n",
    "total = 0\n",
    "for i in numbers.split(\",\") :\n",
    "    if i.isdigit():\n",
    "        total += int(i)\n",
    "print(total)"
   ]
  },
  {
   "cell_type": "markdown",
   "metadata": {},
   "source": [
    "###### Ex. WAP to swap the first and last character of a string entered by user "
   ]
  },
  {
   "cell_type": "code",
   "execution_count": 49,
   "metadata": {},
   "outputs": [
    {
     "data": {
      "text/plain": [
       "'kbcdefghija'"
      ]
     },
     "execution_count": 49,
     "metadata": {},
     "output_type": "execute_result"
    }
   ],
   "source": [
    "strg = \"abcdefghijk\"   # - dbca\n",
    "strg[-1] + strg[1:-1] + strg[0]"
   ]
  },
  {
   "cell_type": "markdown",
   "metadata": {},
   "source": [
    "#### Importing Modules"
   ]
  },
  {
   "cell_type": "code",
   "execution_count": null,
   "metadata": {},
   "outputs": [],
   "source": [
    "import math\n",
    "math.sqrt()"
   ]
  },
  {
   "cell_type": "code",
   "execution_count": null,
   "metadata": {},
   "outputs": [],
   "source": [
    "import math as m\n",
    "m.sqrt()"
   ]
  },
  {
   "cell_type": "code",
   "execution_count": null,
   "metadata": {},
   "outputs": [],
   "source": [
    "from math import sqrt, factorial  # avoid this syntax\n",
    "sqrt()"
   ]
  },
  {
   "cell_type": "markdown",
   "metadata": {},
   "source": [
    "##### Note - when we import a function directly, it may conflict with the exsisting functions of variable"
   ]
  },
  {
   "cell_type": "markdown",
   "metadata": {},
   "source": [
    "<hr><hr>"
   ]
  }
 ],
 "metadata": {
  "kernelspec": {
   "display_name": "Python 3 (ipykernel)",
   "language": "python",
   "name": "python3"
  },
  "language_info": {
   "codemirror_mode": {
    "name": "ipython",
    "version": 3
   },
   "file_extension": ".py",
   "mimetype": "text/x-python",
   "name": "python",
   "nbconvert_exporter": "python",
   "pygments_lexer": "ipython3",
   "version": "3.12.0"
  }
 },
 "nbformat": 4,
 "nbformat_minor": 4
}
