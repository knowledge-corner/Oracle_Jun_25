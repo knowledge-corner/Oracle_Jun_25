{
 "cells": [
  {
   "cell_type": "markdown",
   "metadata": {},
   "source": [
    "## Sequence objects or Iterables\n",
    "- collection of elements - str, range(), enumerate(), zip(), map(), filter()\n",
    "- Container sequences/Objects  - list, tuple, dict, set\n",
    "- Note -  range(), enumerate(), zip(), map(), filter() - these are generating non-readable output when printed.\n",
    "- Note - Any sequence can be converted to list/tuple\n",
    " \n",
    "#### `Operations on Generic Sequences`\n",
    "    - Membership - in | not in\n",
    "    - Iteration - for-loop`\n",
    "\n",
    "#### `Operations on Ordered/Indexed Sequences`\n",
    "    - Indexing - obj[index_pos]\n",
    "    - Slicing - obj[start : stop]\n",
    "    - Concatenation - `+` operator\n",
    "    - Repeatition - `*` operator\n",
    "\n",
    "#### `Functions on Generic Sequences`\n",
    "     - len() - gives the number of elements in the sequence\n",
    "     - max() - gives the largest element in the sequence\n",
    "     - min() - gives the smallest element in the sequence\n",
    "     - sum() - applicable to numeric sequences, returns the sum of all elements in the sequence\n",
    "     - math.prod() - applicable to numeric sequences, returns the product of all elements in the sequence\n",
    "     - sorted() - sorts the elements in the sequence in ASC order and returns a list object\n",
    "     \n",
    "\n",
    "### Python Sequences and Containers\n",
    "   \n",
    "<table style=\"width: 100%; border-collapse: collapse; border: 1px solid #ccc; text-align: center;\">\n",
    "  <thead>\n",
    "    <tr style=\"background-color: #050A30; color: white;\">\n",
    "      <th style=\"border: 1px solid #ccc; padding: 8px;\">Object</th>\n",
    "      <th style=\"border: 1px solid #ccc; padding: 8px;\">Container Object</th>\n",
    "      <th style=\"border: 1px solid #ccc; padding: 8px;\">Sequence Type</th>\n",
    "      <th style=\"border: 1px solid #ccc; padding: 8px;\">Element Type</th>\n",
    "      <th style=\"border: 1px solid #ccc; padding: 8px;\">Enclosed in</th>\n",
    "      <th style=\"border: 1px solid #ccc; padding: 8px;\">Immutability</th>\n",
    "      <th style=\"border: 1px solid #ccc; padding: 8px;\">Duplicates</th>\n",
    "    </tr>\n",
    "  </thead>\n",
    "  <tbody>\n",
    "    <tr>\n",
    "      <td style=\"border: 1px solid #ccc; padding: 8px;\">str()</td>\n",
    "      <td style=\"border: 1px solid #ccc; padding: 8px;\">No</td>\n",
    "      <td style=\"border: 1px solid #ccc; padding: 8px;\">ordered/indexed</td>\n",
    "      <td style=\"border: 1px solid #ccc; padding: 8px;\">characters</td>\n",
    "      <td style=\"border: 1px solid #ccc; padding: 8px;\">\"\" or ''</td>\n",
    "      <td style=\"border: 1px solid #ccc; padding: 8px;\">Yes</td>\n",
    "      <td style=\"border: 1px solid #ccc; padding: 8px;\">Yes</td>\n",
    "    </tr>\n",
    "    <tr>\n",
    "      <td style=\"border: 1px solid #ccc; padding: 8px;\">tuple()</td>\n",
    "      <td style=\"border: 1px solid #ccc; padding: 8px;\">Yes</td>\n",
    "      <td style=\"border: 1px solid #ccc; padding: 8px;\">ordered/indexed</td>\n",
    "      <td style=\"border: 1px solid #ccc; padding: 8px;\">mixed data (heterogeneous)</td>\n",
    "      <td style=\"border: 1px solid #ccc; padding: 8px;\">()</td>\n",
    "      <td style=\"border: 1px solid #ccc; padding: 8px;\">Yes</td>\n",
    "      <td style=\"border: 1px solid #ccc; padding: 8px;\">Yes</td>\n",
    "    </tr>\n",
    "    <tr>\n",
    "      <td style=\"border: 1px solid #ccc; padding: 8px;\">list()</td>\n",
    "      <td style=\"border: 1px solid #ccc; padding: 8px;\">Yes</td>\n",
    "      <td style=\"border: 1px solid #ccc; padding: 8px;\">ordered/indexed</td>\n",
    "      <td style=\"border: 1px solid #ccc; padding: 8px;\">mixed data (heterogeneous)</td>\n",
    "      <td style=\"border: 1px solid #ccc; padding: 8px;\">[]</td>\n",
    "      <td style=\"border: 1px solid #ccc; padding: 8px;\">No</td>\n",
    "      <td style=\"border: 1px solid #ccc; padding: 8px;\">Yes</td>\n",
    "    </tr>\n",
    "    <tr>\n",
    "      <td style=\"border: 1px solid #ccc; padding: 8px;\">set()</td>\n",
    "      <td style=\"border: 1px solid #ccc; padding: 8px;\">Yes</td>\n",
    "      <td style=\"border: 1px solid #ccc; padding: 8px;\">unordered</td>\n",
    "      <td style=\"border: 1px solid #ccc; padding: 8px;\">heterogeneous (immutable objects)</td>\n",
    "      <td style=\"border: 1px solid #ccc; padding: 8px;\">{}</td>\n",
    "      <td style=\"border: 1px solid #ccc; padding: 8px;\">No</td>\n",
    "      <td style=\"border: 1px solid #ccc; padding: 8px;\">No</td>\n",
    "    </tr>\n",
    "    <tr>\n",
    "      <td style=\"border: 1px solid #ccc; padding: 8px;\">dict()</td>\n",
    "      <td style=\"border: 1px solid #ccc; padding: 8px;\">Yes</td>\n",
    "      <td style=\"border: 1px solid #ccc; padding: 8px;\">unordered</td>\n",
    "      <td style=\"border: 1px solid #ccc; padding: 8px;\">Key - immutable<br>Value - any type</td>\n",
    "      <td style=\"border: 1px solid #ccc; padding: 8px;\">{}</td>\n",
    "      <td style=\"border: 1px solid #ccc; padding: 8px;\">No</td>\n",
    "      <td style=\"border: 1px solid #ccc; padding: 8px;\">Key - No<br>Value - Yes</td>\n",
    "    </tr>\n"
   ]
  },
  {
   "cell_type": "markdown",
   "metadata": {},
   "source": [
    "## Tuples in Python\n",
    "\n",
    "\n",
    "#### Tuples -\n",
    "- are Python containers\n",
    "- are an ordered sequence of mixed data\n",
    "- enclose elements in a pair of round brackets, separated by commas\n",
    "- are immutable\n"
   ]
  },
  {
   "cell_type": "markdown",
   "metadata": {},
   "source": [
    "#### Defining a tuple"
   ]
  },
  {
   "cell_type": "code",
   "execution_count": 1,
   "metadata": {},
   "outputs": [
    {
     "data": {
      "text/plain": [
       "(1, 2, 3, 4)"
      ]
     },
     "execution_count": 1,
     "metadata": {},
     "output_type": "execute_result"
    }
   ],
   "source": [
    "tup = (1, 2, 3, 4)\n",
    "tup"
   ]
  },
  {
   "cell_type": "markdown",
   "metadata": {},
   "source": [
    "#### Empty Tuple"
   ]
  },
  {
   "cell_type": "code",
   "execution_count": 2,
   "metadata": {},
   "outputs": [],
   "source": [
    "tup = ()\n",
    "\n",
    "tup = tuple()"
   ]
  },
  {
   "cell_type": "markdown",
   "metadata": {},
   "source": [
    "#### Single value Tuple"
   ]
  },
  {
   "cell_type": "code",
   "execution_count": 5,
   "metadata": {},
   "outputs": [
    {
     "data": {
      "text/plain": [
       "(10,)"
      ]
     },
     "execution_count": 5,
     "metadata": {},
     "output_type": "execute_result"
    }
   ],
   "source": [
    "(10,)"
   ]
  },
  {
   "cell_type": "markdown",
   "metadata": {},
   "source": [
    "##### Note - Any sequence can be converted into a tuple using tuple()"
   ]
  },
  {
   "cell_type": "code",
   "execution_count": 6,
   "metadata": {},
   "outputs": [
    {
     "data": {
      "text/plain": [
       "('a', 'b', 'c', 'd')"
      ]
     },
     "execution_count": 6,
     "metadata": {},
     "output_type": "execute_result"
    }
   ],
   "source": [
    "tuple(\"abcd\")"
   ]
  },
  {
   "cell_type": "code",
   "execution_count": 8,
   "metadata": {},
   "outputs": [
    {
     "data": {
      "text/plain": [
       "(1, 2, 3, 4, 5, 6, 7, 8, 9, 10)"
      ]
     },
     "execution_count": 8,
     "metadata": {},
     "output_type": "execute_result"
    }
   ],
   "source": [
    "tuple(range(1, 11))"
   ]
  },
  {
   "cell_type": "code",
   "execution_count": 11,
   "metadata": {},
   "outputs": [
    {
     "data": {
      "text/plain": [
       "15"
      ]
     },
     "execution_count": 11,
     "metadata": {},
     "output_type": "execute_result"
    }
   ],
   "source": [
    "sum(range(1, 6))"
   ]
  },
  {
   "cell_type": "markdown",
   "metadata": {},
   "source": [
    "### Operations on Tuples\n",
    "- Indexing and Slicing\n",
    "- Iteration\n",
    "- Membership\n",
    "- Concatenation\n",
    "- Repetition"
   ]
  },
  {
   "cell_type": "markdown",
   "metadata": {},
   "source": [
    "#### Examples - "
   ]
  },
  {
   "cell_type": "code",
   "execution_count": 13,
   "metadata": {},
   "outputs": [],
   "source": [
    "fam = (\"Rosie\", 34, \"Sam\", 36, \"Jonnah\", 15, \"Jessie\", 12)"
   ]
  },
  {
   "cell_type": "markdown",
   "metadata": {},
   "source": [
    "###### Ex. Extract 1st element from tuple - "
   ]
  },
  {
   "cell_type": "code",
   "execution_count": 14,
   "metadata": {},
   "outputs": [
    {
     "data": {
      "text/plain": [
       "'Rosie'"
      ]
     },
     "execution_count": 14,
     "metadata": {},
     "output_type": "execute_result"
    }
   ],
   "source": [
    "fam[0]"
   ]
  },
  {
   "cell_type": "markdown",
   "metadata": {},
   "source": [
    "###### Ex. Extract last element from tuple - "
   ]
  },
  {
   "cell_type": "code",
   "execution_count": 15,
   "metadata": {},
   "outputs": [
    {
     "data": {
      "text/plain": [
       "12"
      ]
     },
     "execution_count": 15,
     "metadata": {},
     "output_type": "execute_result"
    }
   ],
   "source": [
    "fam[-1]"
   ]
  },
  {
   "cell_type": "markdown",
   "metadata": {},
   "source": [
    "###### Ex. Extract first 3 elements from tuple - "
   ]
  },
  {
   "cell_type": "code",
   "execution_count": 19,
   "metadata": {},
   "outputs": [
    {
     "data": {
      "text/plain": [
       "('Rosie', 34, 'Sam')"
      ]
     },
     "execution_count": 19,
     "metadata": {},
     "output_type": "execute_result"
    }
   ],
   "source": [
    "fam[0:3]"
   ]
  },
  {
   "cell_type": "markdown",
   "metadata": {},
   "source": [
    "###### Ex. Extract last 2 element from tuple - "
   ]
  },
  {
   "cell_type": "code",
   "execution_count": 17,
   "metadata": {},
   "outputs": [
    {
     "data": {
      "text/plain": [
       "('Jessie', 12)"
      ]
     },
     "execution_count": 17,
     "metadata": {},
     "output_type": "execute_result"
    }
   ],
   "source": [
    "fam[-2:]"
   ]
  },
  {
   "cell_type": "markdown",
   "metadata": {},
   "source": [
    "###### Ex. Extract \"True\" from the given Tuple  "
   ]
  },
  {
   "cell_type": "code",
   "execution_count": 23,
   "metadata": {},
   "outputs": [
    {
     "data": {
      "text/plain": [
       "True"
      ]
     },
     "execution_count": 23,
     "metadata": {},
     "output_type": "execute_result"
    }
   ],
   "source": [
    "tup = ((1, 2, True), 12345, \"Science\")\n",
    "tup[0][2]"
   ]
  },
  {
   "cell_type": "code",
   "execution_count": 25,
   "metadata": {},
   "outputs": [
    {
     "ename": "TypeError",
     "evalue": "'int' object is not subscriptable",
     "output_type": "error",
     "traceback": [
      "\u001b[31m---------------------------------------------------------------------------\u001b[39m",
      "\u001b[31mTypeError\u001b[39m                                 Traceback (most recent call last)",
      "\u001b[36mCell\u001b[39m\u001b[36m \u001b[39m\u001b[32mIn[25]\u001b[39m\u001b[32m, line 1\u001b[39m\n\u001b[32m----> \u001b[39m\u001b[32m1\u001b[39m \u001b[43mtup\u001b[49m\u001b[43m[\u001b[49m\u001b[32;43m1\u001b[39;49m\u001b[43m]\u001b[49m\u001b[43m[\u001b[49m\u001b[32;43m2\u001b[39;49m\u001b[43m]\u001b[49m\n",
      "\u001b[31mTypeError\u001b[39m: 'int' object is not subscriptable"
     ]
    }
   ],
   "source": [
    "tup[1][2]"
   ]
  },
  {
   "cell_type": "code",
   "execution_count": 27,
   "metadata": {},
   "outputs": [
    {
     "data": {
      "text/plain": [
       "'i'"
      ]
     },
     "execution_count": 27,
     "metadata": {},
     "output_type": "execute_result"
    }
   ],
   "source": [
    "tup[2][2]"
   ]
  },
  {
   "cell_type": "code",
   "execution_count": 30,
   "metadata": {},
   "outputs": [
    {
     "ename": "TypeError",
     "evalue": "'tuple' object does not support item assignment",
     "output_type": "error",
     "traceback": [
      "\u001b[31m---------------------------------------------------------------------------\u001b[39m",
      "\u001b[31mTypeError\u001b[39m                                 Traceback (most recent call last)",
      "\u001b[36mCell\u001b[39m\u001b[36m \u001b[39m\u001b[32mIn[30]\u001b[39m\u001b[32m, line 1\u001b[39m\n\u001b[32m----> \u001b[39m\u001b[32m1\u001b[39m \u001b[43mtup\u001b[49m\u001b[43m[\u001b[49m\u001b[32;43m2\u001b[39;49m\u001b[43m]\u001b[49m = \u001b[33m\"\u001b[39m\u001b[33mMath\u001b[39m\u001b[33m\"\u001b[39m\n",
      "\u001b[31mTypeError\u001b[39m: 'tuple' object does not support item assignment"
     ]
    }
   ],
   "source": [
    "tup[2] = \"Math\""
   ]
  },
  {
   "cell_type": "code",
   "execution_count": 36,
   "metadata": {},
   "outputs": [
    {
     "ename": "TypeError",
     "evalue": "'tuple' object does not support item assignment",
     "output_type": "error",
     "traceback": [
      "\u001b[31m---------------------------------------------------------------------------\u001b[39m",
      "\u001b[31mTypeError\u001b[39m                                 Traceback (most recent call last)",
      "\u001b[36mCell\u001b[39m\u001b[36m \u001b[39m\u001b[32mIn[36]\u001b[39m\u001b[32m, line 3\u001b[39m\n\u001b[32m      1\u001b[39m lst = [(\u001b[32m1\u001b[39m, \u001b[32m2\u001b[39m, \u001b[38;5;28;01mTrue\u001b[39;00m), \u001b[32m12345\u001b[39m, \u001b[33m'\u001b[39m\u001b[33mScience\u001b[39m\u001b[33m'\u001b[39m]\n\u001b[32m      2\u001b[39m lst[\u001b[32m2\u001b[39m] = \u001b[33m\"\u001b[39m\u001b[33mMath\u001b[39m\u001b[33m\"\u001b[39m\n\u001b[32m----> \u001b[39m\u001b[32m3\u001b[39m \u001b[43mlst\u001b[49m\u001b[43m[\u001b[49m\u001b[32;43m0\u001b[39;49m\u001b[43m]\u001b[49m\u001b[43m[\u001b[49m\u001b[32;43m2\u001b[39;49m\u001b[43m]\u001b[49m = \u001b[38;5;28;01mFalse\u001b[39;00m\n",
      "\u001b[31mTypeError\u001b[39m: 'tuple' object does not support item assignment"
     ]
    }
   ],
   "source": [
    "lst = [(1, 2, True), 12345, 'Science']\n",
    "lst[2] = \"Math\"\n",
    "lst[0][2] = False"
   ]
  },
  {
   "cell_type": "markdown",
   "metadata": {},
   "source": [
    "###### Ex. WAP to reverse the tuple"
   ]
  },
  {
   "cell_type": "markdown",
   "metadata": {},
   "source": [
    "#### `tup[ start : stop : step]`"
   ]
  },
  {
   "cell_type": "code",
   "execution_count": 37,
   "metadata": {},
   "outputs": [
    {
     "data": {
      "text/plain": [
       "(5, 4, 3, 2, 1)"
      ]
     },
     "execution_count": 37,
     "metadata": {},
     "output_type": "execute_result"
    }
   ],
   "source": [
    "tup = (1, 2, 3, 4, 5)\n",
    "tup[::-1]"
   ]
  },
  {
   "cell_type": "markdown",
   "metadata": {},
   "source": [
    "### Packing/Unpacking of Tuples - \n",
    "\n",
    "- In Python, unpacking of tuples refers to the process of assigning the individual elements of a tuple to multiple variables in a single statement.\n",
    "- This feature allows you to extract values from a tuple and assign them to distinct variables in a convenient and readable way."
   ]
  },
  {
   "cell_type": "code",
   "execution_count": 38,
   "metadata": {},
   "outputs": [
    {
     "data": {
      "text/plain": [
       "(1, 2, 3)"
      ]
     },
     "execution_count": 38,
     "metadata": {},
     "output_type": "execute_result"
    }
   ],
   "source": [
    "tup = 1, 2, 3  # packing of tuples\n",
    "tup"
   ]
  },
  {
   "cell_type": "code",
   "execution_count": 40,
   "metadata": {},
   "outputs": [
    {
     "data": {
      "text/plain": [
       "2"
      ]
     },
     "execution_count": 40,
     "metadata": {},
     "output_type": "execute_result"
    }
   ],
   "source": [
    "a, b, c = tup # unpacking of tuples\n",
    "b"
   ]
  },
  {
   "cell_type": "code",
   "execution_count": 51,
   "metadata": {},
   "outputs": [
    {
     "data": {
      "text/plain": [
       "[2, 3]"
      ]
     },
     "execution_count": 51,
     "metadata": {},
     "output_type": "execute_result"
    }
   ],
   "source": [
    "a, *b = tup # unpacking of tuples\n",
    "b"
   ]
  },
  {
   "cell_type": "markdown",
   "metadata": {},
   "source": [
    "#### Applications - "
   ]
  },
  {
   "cell_type": "markdown",
   "metadata": {},
   "source": [
    "1. Defining multiple variables in a single line"
   ]
  },
  {
   "cell_type": "code",
   "execution_count": 42,
   "metadata": {},
   "outputs": [
    {
     "data": {
      "text/plain": [
       "('Jane', 30)"
      ]
     },
     "execution_count": 42,
     "metadata": {},
     "output_type": "execute_result"
    }
   ],
   "source": [
    "\"Jane\", 30"
   ]
  },
  {
   "cell_type": "code",
   "execution_count": 41,
   "metadata": {},
   "outputs": [
    {
     "name": "stdout",
     "output_type": "stream",
     "text": [
      "Name - Jane, Age - 30\n"
     ]
    }
   ],
   "source": [
    "name, age = \"Jane\", 30\n",
    "print(f\"Name - {name}, Age - {age}\")"
   ]
  },
  {
   "cell_type": "markdown",
   "metadata": {},
   "source": [
    "2. Assigning multiple values to a single variable"
   ]
  },
  {
   "cell_type": "markdown",
   "metadata": {},
   "source": [
    "###### Ex. Given a tuple ratings containing audience ratings for a training course across various categories, each scored out of 5, write a Python function to calculate the final rating. \n",
    "\n",
    "The final rating should be determined by adding the first value which refers to trainer ratings and the average of the remaining values which refer to platflorm ratings like labs, hardware, duration etc."
   ]
  },
  {
   "cell_type": "code",
   "execution_count": 48,
   "metadata": {},
   "outputs": [],
   "source": [
    "ratings = (4.5, 4.9, 3.4, 4, 4.3)\n",
    "trainer_rating, *platform_rating = ratings"
   ]
  },
  {
   "cell_type": "code",
   "execution_count": 45,
   "metadata": {},
   "outputs": [
    {
     "data": {
      "text/plain": [
       "4.5"
      ]
     },
     "execution_count": 45,
     "metadata": {},
     "output_type": "execute_result"
    }
   ],
   "source": [
    "trainer_rating"
   ]
  },
  {
   "cell_type": "code",
   "execution_count": 46,
   "metadata": {},
   "outputs": [
    {
     "data": {
      "text/plain": [
       "[4.9, 3.4, 4, 4.3]"
      ]
     },
     "execution_count": 46,
     "metadata": {},
     "output_type": "execute_result"
    }
   ],
   "source": [
    "platform_rating"
   ]
  },
  {
   "cell_type": "code",
   "execution_count": 47,
   "metadata": {},
   "outputs": [
    {
     "data": {
      "text/plain": [
       "8.65"
      ]
     },
     "execution_count": 47,
     "metadata": {},
     "output_type": "execute_result"
    }
   ],
   "source": [
    "final_rating = trainer_rating + sum(platform_rating)/len(platform_rating)\n",
    "final_rating"
   ]
  },
  {
   "cell_type": "code",
   "execution_count": 50,
   "metadata": {},
   "outputs": [
    {
     "name": "stdout",
     "output_type": "stream",
     "text": [
      "8.65\n",
      "8.825\n",
      "8.899999999999999\n",
      "8.7\n"
     ]
    }
   ],
   "source": [
    "ratings = ((4.5, 4.9, 3.4, 4, 4.3), (4.7, 4.3, 3.9, 4, 4.3), (4.8, 4.1, 4, 4, 4.3), (4.7, 4.3, 4.4, 4, 3.3))\n",
    "for rating in ratings :\n",
    "    trainer_rating, *platform_rating = rating\n",
    "    final_rating = trainer_rating + sum(platform_rating)/len(platform_rating)\n",
    "    print(final_rating)"
   ]
  },
  {
   "cell_type": "markdown",
   "metadata": {},
   "source": [
    "3. Function returning multiple values"
   ]
  },
  {
   "cell_type": "code",
   "execution_count": 62,
   "metadata": {},
   "outputs": [],
   "source": [
    "def func(num) :\n",
    "    square = num**2\n",
    "    cube = num**3\n",
    "    return square, cube  # packing tuples"
   ]
  },
  {
   "cell_type": "code",
   "execution_count": 64,
   "metadata": {},
   "outputs": [
    {
     "name": "stdout",
     "output_type": "stream",
     "text": [
      "Square - 25 | Cube - 125\n"
     ]
    }
   ],
   "source": [
    "sq, cu = func(5)\n",
    "print(f\"Square - {sq} | Cube - {cu}\")"
   ]
  },
  {
   "cell_type": "markdown",
   "metadata": {},
   "source": [
    "##### Note - A function will always return a single object. To return multiple value use packing of tuples"
   ]
  },
  {
   "cell_type": "markdown",
   "metadata": {},
   "source": [
    "###### Application of above example in data visualization - "
   ]
  },
  {
   "cell_type": "code",
   "execution_count": null,
   "metadata": {},
   "outputs": [],
   "source": [
    "import matplotlib.pyplot as plt\n",
    "fig, axes = plt.subplots(nrows = 2)  # unpacking of tuples\n",
    "print(axes)"
   ]
  },
  {
   "cell_type": "markdown",
   "metadata": {},
   "source": [
    "4. for-loop with multiple variables"
   ]
  },
  {
   "cell_type": "markdown",
   "metadata": {},
   "source": [
    "###### Ex. Each sub-tuple contains defect counts in three categories for a batch of products, with each count representing a different defect type. Calculate and display the total defect percentage for each batch with batch numbers."
   ]
  },
  {
   "cell_type": "code",
   "execution_count": 75,
   "metadata": {},
   "outputs": [
    {
     "name": "stdout",
     "output_type": "stream",
     "text": [
      "12.5%\n",
      "6.25%\n",
      "20.0%\n",
      "5.0%\n"
     ]
    }
   ],
   "source": [
    "# Sample data: each sub-tuple contains defect counts in three categories for a batch of products\n",
    "defect_data = (\n",
    "    (5, 3, 2),  # Batch 1\n",
    "    (1, 4, 0),  # Batch 2\n",
    "    (7, 6, 3),  # Batch 3\n",
    "    (2, 1, 1)   # Batch 4\n",
    ")\n",
    "\n",
    "# Total number of products in each batch\n",
    "total_products_per_batch = 80\n",
    "\n",
    "for batch in defect_data :\n",
    "    print(f\"{sum(batch)/total_products_per_batch * 100}%\")"
   ]
  },
  {
   "cell_type": "code",
   "execution_count": 82,
   "metadata": {},
   "outputs": [
    {
     "name": "stdout",
     "output_type": "stream",
     "text": [
      "[6.25, 3.75, 2.5]\n",
      "[1.25, 5.0, 0.0]\n",
      "[8.75, 7.5, 3.75]\n",
      "[2.5, 1.25, 1.25]\n"
     ]
    }
   ],
   "source": [
    "for batch in defect_data :\n",
    "    lst = []\n",
    "    for cat in batch :\n",
    "        lst.append(cat/80 * 100) \n",
    "    print(lst)   "
   ]
  },
  {
   "cell_type": "code",
   "execution_count": 94,
   "metadata": {},
   "outputs": [
    {
     "name": "stdout",
     "output_type": "stream",
     "text": [
      "Batch#1 - 12.5%\n",
      "Batch#2 - 6.25%\n",
      "Batch#3 - 20.0%\n",
      "Batch#4 - 5.0%\n"
     ]
    }
   ],
   "source": [
    "for batch_id, batch in enumerate(defect_data, start = 1) :\n",
    "    percent = sum(batch)/total_products_per_batch * 100\n",
    "    print(f\"Batch#{batch_id} - {percent}%\")"
   ]
  },
  {
   "cell_type": "markdown",
   "metadata": {},
   "source": [
    "#### enumerate(`seq`, `start = 0`)\n",
    "- The enumerate() function adds a counter to an iterable (such as a list, tuple, or string) and returns it as an enumerate object(sqe object).\n",
    "- Enumerate object - sequence of tuples of size 2; with first element as the counter and second element is the element from iterable.\n",
    "##### Note - enumerate object is not readable when printed. But can be iterated using for-loop or can be converted to a list/tuple"
   ]
  },
  {
   "cell_type": "code",
   "execution_count": 84,
   "metadata": {},
   "outputs": [
    {
     "data": {
      "text/plain": [
       "<enumerate at 0x1e85dd984a0>"
      ]
     },
     "execution_count": 84,
     "metadata": {},
     "output_type": "execute_result"
    }
   ],
   "source": [
    "lst = [\"Jane\", \"Jack\", \"Rosie\", \"Diana\"]\n",
    "enumerate(lst)  # output is sequence object - sequence of tuples of size 2"
   ]
  },
  {
   "cell_type": "code",
   "execution_count": 85,
   "metadata": {},
   "outputs": [
    {
     "data": {
      "text/plain": [
       "((0, 'Jane'), (1, 'Jack'), (2, 'Rosie'), (3, 'Diana'))"
      ]
     },
     "execution_count": 85,
     "metadata": {},
     "output_type": "execute_result"
    }
   ],
   "source": [
    "tuple(enumerate(lst))"
   ]
  },
  {
   "cell_type": "code",
   "execution_count": 86,
   "metadata": {},
   "outputs": [
    {
     "data": {
      "text/plain": [
       "((101, 'Jane'), (102, 'Jack'), (103, 'Rosie'), (104, 'Diana'))"
      ]
     },
     "execution_count": 86,
     "metadata": {},
     "output_type": "execute_result"
    }
   ],
   "source": [
    "tuple(enumerate(lst, start = 101))"
   ]
  },
  {
   "cell_type": "code",
   "execution_count": 89,
   "metadata": {},
   "outputs": [
    {
     "name": "stdout",
     "output_type": "stream",
     "text": [
      "(101, 'Jane')\n",
      "(102, 'Jack')\n",
      "(103, 'Rosie')\n",
      "(104, 'Diana')\n"
     ]
    }
   ],
   "source": [
    "# example of unpacking of tuples\n",
    "for value in enumerate(lst, start = 101):\n",
    "    print(value)"
   ]
  },
  {
   "cell_type": "code",
   "execution_count": 88,
   "metadata": {},
   "outputs": [
    {
     "name": "stdout",
     "output_type": "stream",
     "text": [
      "ID - 101 | Name - Jane\n",
      "ID - 102 | Name - Jack\n",
      "ID - 103 | Name - Rosie\n",
      "ID - 104 | Name - Diana\n"
     ]
    }
   ],
   "source": [
    "# example of unpacking of tuples\n",
    "for ID, name in enumerate(lst, start = 101):\n",
    "    print(f\"ID - {ID} | Name - {name}\")"
   ]
  },
  {
   "cell_type": "code",
   "execution_count": null,
   "metadata": {},
   "outputs": [],
   "source": [
    "# Application of for-loop and enumerate in visualisation - annotations"
   ]
  },
  {
   "cell_type": "code",
   "execution_count": 103,
   "metadata": {},
   "outputs": [
    {
     "data": {
      "image/png": "[encoded data removed]",
      "text/plain": [
       "<Figure size 600x200 with 1 Axes>"
      ]
     },
     "metadata": {},
     "output_type": "display_data"
    }
   ],
   "source": [
    "import matplotlib.pyplot as plt\n",
    "plt.figure(figsize = (6, 2))\n",
    "products = [\"P1\", \"P2\", \"P3\", \"P4\", \"P5\"]\n",
    "sales = [6000, 3000, 4000, 5000, 8000]\n",
    "_ = plt.bar(products, sales)\n",
    "\n",
    "for x_cor, y_cor in enumerate(sales):\n",
    "    label = f\"{y_cor//1000}k\"\n",
    "    plt.annotate(label, xy=(x_cor, y_cor+200 ))"
   ]
  },
  {
   "cell_type": "markdown",
   "metadata": {},
   "source": [
    "#### Syntax to install any third-party library- "
   ]
  },
  {
   "cell_type": "code",
   "execution_count": null,
   "metadata": {},
   "outputs": [],
   "source": [
    "# in jupyter - \n",
    "!pip install matplotlib"
   ]
  },
  {
   "cell_type": "code",
   "execution_count": null,
   "metadata": {},
   "outputs": [],
   "source": [
    "# int Terminal window\n",
    "pip install matplotlib"
   ]
  },
  {
   "cell_type": "markdown",
   "metadata": {},
   "source": [
    "<hr><hr>"
   ]
  },
  {
   "attachments": {},
   "cell_type": "markdown",
   "metadata": {},
   "source": [
    "## Lists in Python \n",
    "\n",
    "#### Lists -\n",
    "- are Python containers\n",
    "- are an ordered sequence of mixed data\n",
    "- enclose elements in a pair of square brackets, separated by commas\n",
    "- mutable\n",
    "\n",
    "\n",
    "### Operations on Lists\n",
    "- Indexing and Slicing\n",
    "- Iteration\n",
    "- Membership\n",
    "- Concatenation\n",
    "- Repetition\n",
    "\n",
    "### Built-in functions on Lists\n",
    "- **len()** - returns length of the list\n",
    "- **min(), max()**  - returns minimum and maximum element from the list\n",
    "- **sorted()** - sorts the elements of the list and returns a list\n",
    "- **sum()** - applicable to only numeric lists, returns summation of all the elements int the list"
   ]
  },
  {
   "cell_type": "markdown",
   "metadata": {},
   "source": [
    "#### Defining a list "
   ]
  },
  {
   "cell_type": "code",
   "execution_count": 104,
   "metadata": {},
   "outputs": [],
   "source": [
    "friends = [ 'Ross', 'Monica', 'Joey', 'Chandler']"
   ]
  },
  {
   "cell_type": "markdown",
   "metadata": {},
   "source": [
    "### Adding/Removing elements in a list"
   ]
  },
  {
   "cell_type": "markdown",
   "metadata": {},
   "source": [
    "**lst.append(`object`)** \n",
    "- appends element to the end of the list"
   ]
  },
  {
   "cell_type": "markdown",
   "metadata": {},
   "source": [
    "###### Ex. Append 'Phoebe' to the end of the list"
   ]
  },
  {
   "cell_type": "code",
   "execution_count": 105,
   "metadata": {},
   "outputs": [
    {
     "name": "stdout",
     "output_type": "stream",
     "text": [
      "['Ross', 'Monica', 'Joey', 'Chandler', 'Phoebe']\n"
     ]
    }
   ],
   "source": [
    "friends.append(\"Phoebe\")\n",
    "print(friends)"
   ]
  },
  {
   "cell_type": "markdown",
   "metadata": {},
   "source": [
    "**lst.insert(`index`,`object`)** \n",
    "- inserts element at the mentioned index location"
   ]
  },
  {
   "cell_type": "markdown",
   "metadata": {},
   "source": [
    "###### Ex. Insert 'Rachel' at index position 4"
   ]
  },
  {
   "cell_type": "code",
   "execution_count": 106,
   "metadata": {},
   "outputs": [
    {
     "name": "stdout",
     "output_type": "stream",
     "text": [
      "['Ross', 'Monica', 'Joey', 'Chandler', 'Rachel', 'Phoebe']\n"
     ]
    }
   ],
   "source": [
    "friends.insert(4, \"Rachel\")\n",
    "print(friends)"
   ]
  },
  {
   "cell_type": "markdown",
   "metadata": {},
   "source": [
    "**lst.extend(`seq-obj`)** \n",
    "- always take a sequnce as parameter, appends all the elements from sequence to end of the list."
   ]
  },
  {
   "cell_type": "markdown",
   "metadata": {},
   "source": [
    "###### Ex. Extend tuple of new_friends to the end of the friends list"
   ]
  },
  {
   "cell_type": "code",
   "execution_count": 107,
   "metadata": {},
   "outputs": [
    {
     "name": "stdout",
     "output_type": "stream",
     "text": [
      "['Ross', 'Monica', 'Joey', 'Chandler', 'Rachel', 'Phoebe', 'Jack', 'Jane', 'Jasmine', 'Rosie']\n"
     ]
    }
   ],
   "source": [
    "new_friends = (\"Jack\", \"Jane\", \"Jasmine\", \"Rosie\")\n",
    "friends.extend(new_friends)\n",
    "print(friends)"
   ]
  },
  {
   "cell_type": "markdown",
   "metadata": {},
   "source": [
    "**lst.pop()** \n",
    "- deletes the last element from the list"
   ]
  },
  {
   "cell_type": "code",
   "execution_count": 108,
   "metadata": {},
   "outputs": [
    {
     "name": "stdout",
     "output_type": "stream",
     "text": [
      "['Ross', 'Monica', 'Joey', 'Chandler', 'Rachel', 'Phoebe', 'Jack', 'Jane', 'Jasmine']\n"
     ]
    }
   ],
   "source": [
    "friends.pop()\n",
    "print(friends)"
   ]
  },
  {
   "cell_type": "markdown",
   "metadata": {},
   "source": [
    "**lst.pop(`index`)**\n",
    "- deletes the element at the mentioned `index-value` from the list"
   ]
  },
  {
   "cell_type": "code",
   "execution_count": 109,
   "metadata": {},
   "outputs": [
    {
     "name": "stdout",
     "output_type": "stream",
     "text": [
      "['Ross', 'Joey', 'Chandler', 'Rachel', 'Phoebe', 'Jack', 'Jane', 'Jasmine']\n"
     ]
    }
   ],
   "source": [
    "friends.pop(1)\n",
    "print(friends)"
   ]
  },
  {
   "cell_type": "markdown",
   "metadata": {},
   "source": [
    "**lst.remove(`obj`)** \n",
    "- removes the mention `obj` from the list"
   ]
  },
  {
   "cell_type": "code",
   "execution_count": 110,
   "metadata": {},
   "outputs": [
    {
     "name": "stdout",
     "output_type": "stream",
     "text": [
      "['Ross', 'Chandler', 'Rachel', 'Phoebe', 'Jack', 'Jane', 'Jasmine']\n"
     ]
    }
   ],
   "source": [
    "friends.remove('Joey')\n",
    "print(friends)"
   ]
  },
  {
   "cell_type": "markdown",
   "metadata": {},
   "source": [
    "#### Examples - "
   ]
  },
  {
   "cell_type": "markdown",
   "metadata": {},
   "source": [
    "###### Ex. Write a program to combine two lists, one containing product names and the other containing sales figures, to generate a consolidated report."
   ]
  },
  {
   "cell_type": "code",
   "execution_count": 117,
   "metadata": {},
   "outputs": [
    {
     "name": "stdout",
     "output_type": "stream",
     "text": [
      "Laptop - 150\n",
      "Smartphone - 300\n",
      "Headphones - 120\n",
      "Keyboard - 90\n"
     ]
    }
   ],
   "source": [
    "# Lists containing product names and their corresponding sales figures\n",
    "products = [\"Laptop\", \"Smartphone\", \"Headphones\", \"Keyboard\"]\n",
    "sales = [150, 300, 120, 90]\n",
    "\n",
    "for product, value in zip(products, sales) :\n",
    "    print(f\"{product} - {value}\")\n"
   ]
  },
  {
   "cell_type": "markdown",
   "metadata": {},
   "source": [
    "**zip(`list1`, `list2`, ...)**\n",
    "- the zip() function is used to combine multiple iterables (such as lists, tuples, or strings) into a single iterable of tuples.\n",
    "- Each tuple contains elements from the input iterables at corresponding positions.\n",
    "- It effectively \"zips\" together the elements from the provided iterables, creating pairs (or n-tuples) of elements."
   ]
  },
  {
   "cell_type": "code",
   "execution_count": 111,
   "metadata": {},
   "outputs": [
    {
     "data": {
      "text/plain": [
       "<zip at 0x1e85dc3b400>"
      ]
     },
     "execution_count": 111,
     "metadata": {},
     "output_type": "execute_result"
    }
   ],
   "source": [
    "zip(products, sales)"
   ]
  },
  {
   "cell_type": "code",
   "execution_count": 115,
   "metadata": {},
   "outputs": [
    {
     "data": {
      "text/plain": [
       "[('Laptop', 150), ('Smartphone', 300), ('Headphones', 120), ('Keyboard', 90)]"
      ]
     },
     "execution_count": 115,
     "metadata": {},
     "output_type": "execute_result"
    }
   ],
   "source": [
    "list(zip(products, sales))"
   ]
  },
  {
   "attachments": {},
   "cell_type": "markdown",
   "metadata": {},
   "source": [
    "###### Ex. Write a program to manage a to-do list. \n",
    "- Accept 3 tasks from the user and add them to the list.\n",
    "- Create a function that adds a new task to the list and displays the updated list.\n",
    "- Create a function that displays all tasks with their respective numbers, allows the user to delete a task by entering its number, and then displays the updated list."
   ]
  },
  {
   "cell_type": "code",
   "execution_count": 133,
   "metadata": {},
   "outputs": [],
   "source": [
    "tasks = []"
   ]
  },
  {
   "cell_type": "code",
   "execution_count": 136,
   "metadata": {},
   "outputs": [
    {
     "name": "stdout",
     "output_type": "stream",
     "text": [
      "1- Python Project\n",
      "2- Meeting at 3pm\n"
     ]
    }
   ],
   "source": [
    "# Create a function that displays all tasks with their respective numbers, \n",
    "def display_tasks():\n",
    "    for ID, task in enumerate(tasks, start = 1):\n",
    "        print(f\"{ID}- {task}\")\n",
    "display_tasks()"
   ]
  },
  {
   "cell_type": "code",
   "execution_count": 134,
   "metadata": {},
   "outputs": [
    {
     "name": "stdout",
     "output_type": "stream",
     "text": [
      "1- Python Project\n"
     ]
    }
   ],
   "source": [
    "# Create a function that adds a new task to the list and displays the updated list.\n",
    "def add_task(task_name) :\n",
    "    # code to add the task to the list\n",
    "    tasks.append(task_name)\n",
    "    display_tasks()\n",
    "\n",
    "add_task(\"Python Project\")"
   ]
  },
  {
   "cell_type": "code",
   "execution_count": 135,
   "metadata": {},
   "outputs": [
    {
     "name": "stdout",
     "output_type": "stream",
     "text": [
      "1- Python Project\n",
      "2- Meeting at 3pm\n"
     ]
    }
   ],
   "source": [
    "add_task(\"Meeting at 3pm\")"
   ]
  },
  {
   "cell_type": "code",
   "execution_count": 137,
   "metadata": {},
   "outputs": [
    {
     "name": "stdout",
     "output_type": "stream",
     "text": [
      "1- Python Project\n",
      "2- Meeting at 3pm\n"
     ]
    },
    {
     "name": "stdin",
     "output_type": "stream",
     "text": [
      "Enter task_no to delete -  2\n"
     ]
    },
    {
     "name": "stdout",
     "output_type": "stream",
     "text": [
      "1- Python Project\n"
     ]
    }
   ],
   "source": [
    "# Create a function that allows the user to delete a task by entering its number, and then displays the updated list.\n",
    "def delete_task():\n",
    "    # Display all tasks with number\n",
    "    display_tasks()\n",
    "    # Take task number as diplayed as input from user\n",
    "    task_no = int(input(\"Enter task_no to delete - \"))\n",
    "    # delete that task\n",
    "    tasks.pop(task_no - 1)\n",
    "    # display the updated task list\n",
    "    display_tasks()\n",
    "\n",
    "delete_task()"
   ]
  },
  {
   "cell_type": "markdown",
   "metadata": {},
   "source": [
    "###### Ex. Reading and writing tasks to file\n",
    "Write the data from the data list to the file"
   ]
  },
  {
   "cell_type": "code",
   "execution_count": 138,
   "metadata": {
    "collapsed": true,
    "jupyter": {
     "outputs_hidden": true,
     "source_hidden": true
    }
   },
   "outputs": [
    {
     "name": "stdout",
     "output_type": "stream",
     "text": [
      "Details of Rosie added to file.\n"
     ]
    }
   ],
   "source": [
    "def write_data(name, age, salary) :\n",
    "    with open(\"detals.txt\", \"a\") as file_obj:\n",
    "        file_obj.write(f\"{name} | {age} | {salary}\\n\")\n",
    "        print(f\"Details of {name} added to file.\")"
   ]
  },
  {
   "cell_type": "code",
   "execution_count": null,
   "metadata": {},
   "outputs": [],
   "source": [
    "data_list = [[\"Jane\", 30, 250000],\n",
    "            [\"Jack\", 35, 650000],\n",
    "            [\"Meera\", 28, 320000],\n",
    "            [\"Arjun\", 40, 720000],\n",
    "            [\"Priya\", 33, 480000],\n",
    "            [\"Liam\", 29, 310000],\n",
    "            [\"Sara\", 37, 590000]]\n",
    "\n",
    "for name, age, salary in data_list:\n",
    "    write_data(name, age, salary)"
   ]
  },
  {
   "cell_type": "code",
   "execution_count": null,
   "metadata": {},
   "outputs": [],
   "source": [
    "data_list = [[\"Jane\", 30, 250000],\n",
    "            [\"Jack\", 35, 650000],\n",
    "            [\"Meera\", 28, 320000],\n",
    "            [\"Arjun\", 40, 720000],\n",
    "            [\"Priya\", 33, 480000],\n",
    "            [\"Liam\", 29, 310000],\n",
    "            [\"Sara\", 37, 590000]]\n",
    "\n",
    "for data in data_list:\n",
    "    write_data(*data)  # as the unpacking of values in between a function call we will use *data"
   ]
  },
  {
   "cell_type": "code",
   "execution_count": null,
   "metadata": {},
   "outputs": [],
   "source": [
    "data = [\"Jane\", 30, 250000]\n",
    "name, age, sal = data"
   ]
  },
  {
   "attachments": {},
   "cell_type": "markdown",
   "metadata": {},
   "source": [
    "<hr><br>\n",
    "\n",
    "### Creating a copy of a list \n",
    "#### (Shallow copying and Deep Copying)\n",
    "\n",
    "- Assignment statements create bindings between a target and an object, rather than copying objects.\n",
    "- The `=` operator does not create a new object; it only creates a new variable that shares the reference of the original object.\n",
    "- To work with mutable objects, users may need to create \"real copies\" or \"clones\" of these objects.\n",
    "- Creating copies allows users to modify them without affecting the original object."
   ]
  },
  {
   "cell_type": "markdown",
   "metadata": {},
   "source": [
    "#### Shallow Copy"
   ]
  },
  {
   "cell_type": "code",
   "execution_count": 143,
   "metadata": {},
   "outputs": [
    {
     "name": "stdout",
     "output_type": "stream",
     "text": [
      "[10, 8, ['Jane', 'Thomas', 'Jack']]\n",
      "[2, 8, ['Jane', 'Thomas', 'Jack']]\n"
     ]
    }
   ],
   "source": [
    "lst1 = [2, 8, [\"Jane\", \"Thomas\", \"Jack\"]]\n",
    "lst2 = lst1.copy()  # shallow copy\n",
    "lst1[0] = 10\n",
    "print(lst1)\n",
    "print(lst2)"
   ]
  },
  {
   "cell_type": "markdown",
   "metadata": {},
   "source": [
    "#### Deep Copy"
   ]
  },
  {
   "cell_type": "code",
   "execution_count": 149,
   "metadata": {},
   "outputs": [
    {
     "name": "stdout",
     "output_type": "stream",
     "text": [
      "[10, 8, ['Sam', 'Thomas', 'Jack']]\n",
      "[2, 8, ['Jane', 'Thomas', 'Jack']]\n"
     ]
    }
   ],
   "source": [
    "import copy\n",
    "lst1 = [2, 8, [\"Jane\", \"Thomas\", \"Jack\"]]\n",
    "lst2 = copy.deepcopy(lst1) # deep copy\n",
    "lst1[0] = 10\n",
    "lst1[2][0] = \"Sam\"\n",
    "print(lst1)\n",
    "print(lst2)"
   ]
  },
  {
   "cell_type": "markdown",
   "metadata": {},
   "source": [
    "<hr><hr>"
   ]
  },
  {
   "attachments": {},
   "cell_type": "markdown",
   "metadata": {},
   "source": [
    "## Sets in Python\n",
    "\n",
    "#### Sets -\n",
    "- are Python containers\n",
    "- are an unordered sequence of mixed data (immutable objects)\n",
    "- encloses elements in a pair of curly brackets, separated by commas\n",
    "- mutable\n",
    "- do not allow duplicates\n",
    "- allow set operations on data\n",
    "\n",
    "### Operations on Sets\n",
    "- Iteration\n",
    "- Membership\n",
    "- Set Operations\n",
    "    - Union | Intersection | Difference | Symmetric Difference\n",
    "    - Disjoint sets\n",
    "    - Subsets and Supersets\n",
    "\n",
    "### Built-in functions on Sets\n",
    "- **len()** - returns length of the sets\n",
    "- **min(), max()**  - returns minimum and maximum element from the set\n",
    "- **sorted()** - sorts the elements of the set and returns a list\n",
    "- **sum()** - applicable to only numeric sets, returns summation of all the elements int the set"
   ]
  },
  {
   "cell_type": "markdown",
   "metadata": {},
   "source": [
    "#### Creating a set"
   ]
  },
  {
   "cell_type": "code",
   "execution_count": 150,
   "metadata": {},
   "outputs": [
    {
     "name": "stdout",
     "output_type": "stream",
     "text": [
      "{50, 20, 40, 10, 30}\n"
     ]
    }
   ],
   "source": [
    "s = {10, 20, 30, 40, 50}\n",
    "print(s)"
   ]
  },
  {
   "cell_type": "markdown",
   "metadata": {},
   "source": [
    "### Adding/Removing elements "
   ]
  },
  {
   "cell_type": "markdown",
   "metadata": {},
   "source": [
    "#### set.add(`obj`) \n",
    "- adds a new element to the set"
   ]
  },
  {
   "cell_type": "code",
   "execution_count": 151,
   "metadata": {},
   "outputs": [
    {
     "name": "stdout",
     "output_type": "stream",
     "text": [
      "{50, 20, 'abcd', 40, 10, 30}\n"
     ]
    }
   ],
   "source": [
    "s.add(\"abcd\")\n",
    "print(s)"
   ]
  },
  {
   "cell_type": "markdown",
   "metadata": {},
   "source": [
    "#### set.update(`seq`) \n",
    "- takes a sequence object as a parameter and adds all the elemnts from the sequence to the set"
   ]
  },
  {
   "cell_type": "code",
   "execution_count": 152,
   "metadata": {},
   "outputs": [
    {
     "name": "stdout",
     "output_type": "stream",
     "text": [
      "{1, 2, 3, 4, 10, 20, 'abcd', 30, 40, 50}\n"
     ]
    }
   ],
   "source": [
    "s.update([1, 2, 3, 4])\n",
    "print(s)"
   ]
  },
  {
   "cell_type": "markdown",
   "metadata": {},
   "source": [
    "#### pop() \n",
    "- removes a random element from the set"
   ]
  },
  {
   "cell_type": "code",
   "execution_count": 153,
   "metadata": {},
   "outputs": [
    {
     "name": "stdout",
     "output_type": "stream",
     "text": [
      "{2, 3, 4, 10, 20, 'abcd', 30, 40, 50}\n"
     ]
    }
   ],
   "source": [
    "s.pop()\n",
    "print(s)"
   ]
  },
  {
   "cell_type": "markdown",
   "metadata": {},
   "source": [
    "#### remove(`obj`) \n",
    "- removes a specified elemnt from the set, givevs error if the element is not present in the set"
   ]
  },
  {
   "cell_type": "code",
   "execution_count": 154,
   "metadata": {},
   "outputs": [
    {
     "name": "stdout",
     "output_type": "stream",
     "text": [
      "{2, 3, 4, 10, 20, 30, 40, 50}\n"
     ]
    }
   ],
   "source": [
    "s.remove(\"abcd\")\n",
    "print(s)"
   ]
  },
  {
   "cell_type": "markdown",
   "metadata": {},
   "source": [
    "#### discard(`obj`) \n",
    "- removes the specified element from the set, it will not give any error if element is not present."
   ]
  },
  {
   "cell_type": "code",
   "execution_count": 155,
   "metadata": {},
   "outputs": [
    {
     "ename": "KeyError",
     "evalue": "'abcd'",
     "output_type": "error",
     "traceback": [
      "\u001b[31m---------------------------------------------------------------------------\u001b[39m",
      "\u001b[31mKeyError\u001b[39m                                  Traceback (most recent call last)",
      "\u001b[36mCell\u001b[39m\u001b[36m \u001b[39m\u001b[32mIn[155]\u001b[39m\u001b[32m, line 1\u001b[39m\n\u001b[32m----> \u001b[39m\u001b[32m1\u001b[39m \u001b[43ms\u001b[49m\u001b[43m.\u001b[49m\u001b[43mremove\u001b[49m\u001b[43m(\u001b[49m\u001b[33;43m\"\u001b[39;49m\u001b[33;43mabcd\u001b[39;49m\u001b[33;43m\"\u001b[39;49m\u001b[43m)\u001b[49m\n\u001b[32m      2\u001b[39m \u001b[38;5;28mprint\u001b[39m(s)\n",
      "\u001b[31mKeyError\u001b[39m: 'abcd'"
     ]
    }
   ],
   "source": [
    "s.remove(\"abcd\")\n",
    "print(s)"
   ]
  },
  {
   "cell_type": "code",
   "execution_count": 156,
   "metadata": {},
   "outputs": [
    {
     "name": "stdout",
     "output_type": "stream",
     "text": [
      "{2, 3, 4, 10, 20, 30, 40, 50}\n"
     ]
    }
   ],
   "source": [
    "s.discard(\"abcd\")\n",
    "print(s)"
   ]
  },
  {
   "cell_type": "markdown",
   "metadata": {},
   "source": [
    "#### Set Operations - Union | Intersection | Difference | Symmetric Difference"
   ]
  },
  {
   "cell_type": "code",
   "execution_count": 157,
   "metadata": {},
   "outputs": [],
   "source": [
    "set1 = {1, 2, 3, 4, 5}\n",
    "set2 = {4, 5, 6, 7, 8}"
   ]
  },
  {
   "cell_type": "code",
   "execution_count": 159,
   "metadata": {},
   "outputs": [
    {
     "data": {
      "text/plain": [
       "{1, 2, 3, 4, 5, 6, 7, 8}"
      ]
     },
     "execution_count": 159,
     "metadata": {},
     "output_type": "execute_result"
    }
   ],
   "source": [
    "set1 | set2 # union\n",
    "set1.union(set2)"
   ]
  },
  {
   "cell_type": "code",
   "execution_count": 160,
   "metadata": {},
   "outputs": [
    {
     "data": {
      "text/plain": [
       "{4, 5}"
      ]
     },
     "execution_count": 160,
     "metadata": {},
     "output_type": "execute_result"
    }
   ],
   "source": [
    "set1 & set2 # intersection\n",
    "set1.intersection(set2)"
   ]
  },
  {
   "cell_type": "code",
   "execution_count": 161,
   "metadata": {},
   "outputs": [
    {
     "data": {
      "text/plain": [
       "{1, 2, 3, 6, 7, 8}"
      ]
     },
     "execution_count": 161,
     "metadata": {},
     "output_type": "execute_result"
    }
   ],
   "source": [
    "set1 ^ set2\n",
    "set1.symmetric_difference(set2)"
   ]
  },
  {
   "cell_type": "code",
   "execution_count": 162,
   "metadata": {},
   "outputs": [
    {
     "data": {
      "text/plain": [
       "{1, 2, 3}"
      ]
     },
     "execution_count": 162,
     "metadata": {},
     "output_type": "execute_result"
    }
   ],
   "source": [
    "set1 - set2\n",
    "set1.difference(set2)"
   ]
  },
  {
   "cell_type": "markdown",
   "metadata": {},
   "source": [
    "#### Disjoint set\n",
    "- if the two sets have no common elements"
   ]
  },
  {
   "cell_type": "code",
   "execution_count": 163,
   "metadata": {},
   "outputs": [
    {
     "data": {
      "text/plain": [
       "True"
      ]
     },
     "execution_count": 163,
     "metadata": {},
     "output_type": "execute_result"
    }
   ],
   "source": [
    "set1 = {1, 2, 3, 4, 5}\n",
    "set2 = {6, 7, 8, 9, 10}\n",
    "\n",
    "set1.isdisjoint(set2)"
   ]
  },
  {
   "cell_type": "markdown",
   "metadata": {},
   "source": [
    "#### Subset | Superset\n",
    "\n",
    "- If all elemenets of set1 are present in set2 then, \n",
    "    - set1 is subset of set2\n",
    "    - set2 will be superset of set1"
   ]
  },
  {
   "cell_type": "code",
   "execution_count": 164,
   "metadata": {},
   "outputs": [
    {
     "data": {
      "text/plain": [
       "True"
      ]
     },
     "execution_count": 164,
     "metadata": {},
     "output_type": "execute_result"
    }
   ],
   "source": [
    "set1 = {1, 2, 3, 4, 5}\n",
    "set2 = {1, 2, 3, 4, 5, 6, 7, 8, 9, 10}\n",
    "\n",
    "set1.issubset(set2)"
   ]
  },
  {
   "cell_type": "code",
   "execution_count": 165,
   "metadata": {},
   "outputs": [
    {
     "data": {
      "text/plain": [
       "True"
      ]
     },
     "execution_count": 165,
     "metadata": {},
     "output_type": "execute_result"
    }
   ],
   "source": [
    "set2.issuperset(set1)"
   ]
  },
  {
   "cell_type": "markdown",
   "metadata": {},
   "source": [
    "#### Examples - "
   ]
  },
  {
   "cell_type": "markdown",
   "metadata": {},
   "source": [
    "###### Set of members drinking tea and coffee"
   ]
  },
  {
   "cell_type": "code",
   "execution_count": 166,
   "metadata": {},
   "outputs": [],
   "source": [
    "drinks_coffee = {\"Jane\", \"Jack\", \"Sam\", \"George\", \"Dori\"}\n",
    "drinks_tea = {\"Jack\", \"Frank\", \"Cody\", \"Dori\", \"Bill\"}"
   ]
  },
  {
   "cell_type": "markdown",
   "metadata": {},
   "source": [
    "###### Ex. Are there any members who drink tea and coffee both? (Yes/No). If `Yes` then, display their names."
   ]
  },
  {
   "cell_type": "code",
   "execution_count": 169,
   "metadata": {},
   "outputs": [
    {
     "name": "stdout",
     "output_type": "stream",
     "text": [
      "Yes -  Jack, Dori\n"
     ]
    }
   ],
   "source": [
    "if drinks_coffee.isdisjoint(drinks_tea) :\n",
    "    print(\"No common members.\")\n",
    "else:\n",
    "    set1 = drinks_coffee.intersection(drinks_tea)\n",
    "    print(\"Yes - \", \", \".join(set1))"
   ]
  },
  {
   "cell_type": "markdown",
   "metadata": {},
   "source": [
    "###### Ex. Does all the members who drink tea also drink coffee? (Yes/No). If `No` then, display the names of members who drink only tea but not coffee."
   ]
  },
  {
   "cell_type": "code",
   "execution_count": 170,
   "metadata": {},
   "outputs": [
    {
     "name": "stdout",
     "output_type": "stream",
     "text": [
      "No -  Bill, Frank, Cody\n"
     ]
    }
   ],
   "source": [
    "if drinks_tea.issubset(drinks_coffee) :\n",
    "    print(\"Yes\")\n",
    "else:\n",
    "    set1 = drinks_tea.difference(drinks_coffee)\n",
    "    print(\"No - \", \", \".join(set1))"
   ]
  },
  {
   "cell_type": "markdown",
   "metadata": {},
   "source": [
    "###### Ex. WAP to check if password entered by user is satisfying following condions or not -\n",
    "1. length of password must be >= 8\n",
    "2. username and password must not be same\n",
    "3. Password must contain atleast 1 digit, 1 capital alphabet, 1 small alphabet and 1 special character like \"!@#$%^&*\"\n"
   ]
  },
  {
   "cell_type": "code",
   "execution_count": 180,
   "metadata": {},
   "outputs": [
    {
     "name": "stdout",
     "output_type": "stream",
     "text": [
      "Invalid\n"
     ]
    }
   ],
   "source": [
    "import string\n",
    "username = \"Jane\"\n",
    "password = \"Jane1234\"\n",
    "\n",
    "result = []\n",
    "result.append(len(password) >= 8)\n",
    "result.append(password != username)\n",
    "result.append(set(string.ascii_uppercase) & set(password))\n",
    "result.append(set(string.ascii_lowercase) & set(password))\n",
    "result.append(set(string.digits) & set(password))\n",
    "result.append(set(\"!@#$%^&*\") & set(password))\n",
    "\n",
    "if all(result) :\n",
    "    print(\"Valid\")\n",
    "else:\n",
    "    print(\"Invalid\")"
   ]
  },
  {
   "cell_type": "code",
   "execution_count": 174,
   "metadata": {},
   "outputs": [
    {
     "data": {
      "text/plain": [
       "'ABCDEFGHIJKLMNOPQRSTUVWXYZ'"
      ]
     },
     "execution_count": 174,
     "metadata": {},
     "output_type": "execute_result"
    }
   ],
   "source": [
    "import string\n",
    "string.ascii_lowercase\n",
    "string.ascii_uppercase"
   ]
  },
  {
   "cell_type": "markdown",
   "metadata": {},
   "source": [
    "**all(`seq`)** \n",
    "- The all() function returns True if all elements in the iterable are true (or if the iterable is empty). Otherwise, it returns False.\n",
    "  \n",
    "**any(`seq`)** \n",
    "- The any() function returns True if at least one element in the iterable is true. If all elements are false (or if the iterable is empty), it returns False."
   ]
  },
  {
   "cell_type": "markdown",
   "metadata": {},
   "source": [
    "<hr><hr>"
   ]
  },
  {
   "cell_type": "markdown",
   "metadata": {},
   "source": [
    "## Dictionary in Python\n",
    "\n",
    "#### Dictionaries are -\n",
    "- are Python containers \n",
    "- are an unordered sequence of mixed data - does not follow indexing. But stores elements in the order as entered.\n",
    "- Encloses elements in a pair of curly brackets\n",
    "- elements are stored in the form of {key : value} pairs separated by commas\n",
    "- keys are always unique and immutable\n",
    "- values need not be unique and can be of any type\n",
    "- mutable"
   ]
  },
  {
   "cell_type": "markdown",
   "metadata": {},
   "source": [
    "###### Ex. Create a dictionary consisting of country names and their currencies"
   ]
  },
  {
   "cell_type": "code",
   "execution_count": 184,
   "metadata": {},
   "outputs": [
    {
     "name": "stdout",
     "output_type": "stream",
     "text": [
      "{'United States': 'USD', 'United Kingdom': 'GBP', 'India': 'INR', 'Australia': 'AUD'}\n"
     ]
    }
   ],
   "source": [
    "country_currency = { \"United States\": \"USD\", \"United Kingdom\": \"GBP\", \"India\": \"INR\", \"Australia\": \"AUD\"}\n",
    "print(country_currency)"
   ]
  },
  {
   "cell_type": "markdown",
   "metadata": {},
   "source": [
    "###### Ex. Print currency for \"India\""
   ]
  },
  {
   "cell_type": "code",
   "execution_count": 185,
   "metadata": {},
   "outputs": [
    {
     "name": "stdout",
     "output_type": "stream",
     "text": [
      "INR\n"
     ]
    }
   ],
   "source": [
    "print(country_currency[\"India\"])"
   ]
  },
  {
   "cell_type": "markdown",
   "metadata": {},
   "source": [
    "**dict.get(`keyname`, `value`)**\n",
    "- keyname -\tRequired. The keyname of the item you want to return the value from <br>\n",
    "- value -\tOptional. A value to return if the specified key does not exist. Default value None"
   ]
  },
  {
   "cell_type": "code",
   "execution_count": 186,
   "metadata": {},
   "outputs": [
    {
     "ename": "KeyError",
     "evalue": "'Japan'",
     "output_type": "error",
     "traceback": [
      "\u001b[31m---------------------------------------------------------------------------\u001b[39m",
      "\u001b[31mKeyError\u001b[39m                                  Traceback (most recent call last)",
      "\u001b[36mCell\u001b[39m\u001b[36m \u001b[39m\u001b[32mIn[186]\u001b[39m\u001b[32m, line 1\u001b[39m\n\u001b[32m----> \u001b[39m\u001b[32m1\u001b[39m \u001b[43mcountry_currency\u001b[49m\u001b[43m[\u001b[49m\u001b[33;43m\"\u001b[39;49m\u001b[33;43mJapan\u001b[39;49m\u001b[33;43m\"\u001b[39;49m\u001b[43m]\u001b[49m\n",
      "\u001b[31mKeyError\u001b[39m: 'Japan'"
     ]
    }
   ],
   "source": [
    "country_currency[\"Japan\"]"
   ]
  },
  {
   "cell_type": "code",
   "execution_count": 188,
   "metadata": {},
   "outputs": [
    {
     "name": "stdout",
     "output_type": "stream",
     "text": [
      "None\n"
     ]
    }
   ],
   "source": [
    "print(country_currency.get(\"Japan\"))"
   ]
  },
  {
   "cell_type": "code",
   "execution_count": 189,
   "metadata": {},
   "outputs": [
    {
     "name": "stdout",
     "output_type": "stream",
     "text": [
      "Country no present\n"
     ]
    }
   ],
   "source": [
    "print(country_currency.get(\"Japan\", \"Country no present\"))"
   ]
  },
  {
   "cell_type": "markdown",
   "metadata": {},
   "source": [
    "#### Examples - "
   ]
  },
  {
   "cell_type": "markdown",
   "metadata": {},
   "source": [
    "###### Ex. WAP to create a dictionary combining the following two lists where name is key and marks as value"
   ]
  },
  {
   "cell_type": "code",
   "execution_count": 191,
   "metadata": {},
   "outputs": [
    {
     "data": {
      "text/plain": [
       "{'Jane': 70000, 'Rosie': 90000, 'Mary': 40000, 'Sam': 55000, 'George': 76000}"
      ]
     },
     "execution_count": 191,
     "metadata": {},
     "output_type": "execute_result"
    }
   ],
   "source": [
    "names = ['Jane', 'Rosie', 'Mary', 'Sam', 'George']\n",
    "salary = [70000, 90000, 40000, 55000, 76000]\n",
    "\n",
    "dict(zip(names, salary))"
   ]
  },
  {
   "cell_type": "markdown",
   "metadata": {},
   "source": [
    "###### Ex. Develop a Python program to manage the inventory of a retail store using a dictionary.\n",
    "- Initialize an inventory dictionary with product names as keys and quantities as values.\n",
    "- Create a function to add a new product to the inventory:\n",
    "    - If the product already exists, update its quantity.\n",
    "    - If the product does not exist, add it to the inventory.\n",
    "    - Display a message indicating the addition of the product and its quantity.\n",
    "- Create a function to display the current inventory:\n",
    "    - Iterate through the dictionary and print each product's name and quantity.\n",
    "\n",
    "- Create a function to remove a product from the inventory:\n",
    "    - If the product exists, remove it from the inventory.\n",
    "    - Display a message indicating the removal of the product.\n",
    "    - If the product does not exist, display a message indicating its absence."
   ]
  },
  {
   "cell_type": "code",
   "execution_count": 192,
   "metadata": {},
   "outputs": [],
   "source": [
    "# Initialize an inventory dictionary with product names as keys and quantities as values.\n",
    "inventory = {\"Laptop\": 15, \"Smartphone\": 25, \"Tablet\": 10, \"Headphones\": 30, \"Charger\": 50}"
   ]
  },
  {
   "cell_type": "code",
   "execution_count": 196,
   "metadata": {},
   "outputs": [
    {
     "name": "stdout",
     "output_type": "stream",
     "text": [
      "Laptop  -  15\n",
      "Smartphone  -  25\n",
      "Tablet  -  10\n",
      "Headphones  -  30\n",
      "Charger  -  50\n"
     ]
    }
   ],
   "source": [
    "def display_inventory():\n",
    "    # code to display the inventory\n",
    "    # for i in inventory:\n",
    "    #     print(i, \" - \", inventory[i])\n",
    "    for product, value in inventory.items():\n",
    "        print(product, \" - \", value)\n",
    "\n",
    "display_inventory()"
   ]
  },
  {
   "cell_type": "code",
   "execution_count": 199,
   "metadata": {},
   "outputs": [
    {
     "name": "stdout",
     "output_type": "stream",
     "text": [
      "Laptop  -  12\n",
      "Smartphone  -  25\n",
      "Tablet  -  10\n",
      "Headphones  -  30\n",
      "Charger  -  50\n",
      "speaker  -  5\n"
     ]
    }
   ],
   "source": [
    "def add_product(product, value) :\n",
    "    inventory[product] = value  # adding element/ updating element\n",
    "    display_inventory()\n",
    "\n",
    "# add_product(\"Laptop\", 12)\n",
    "add_product(\"speaker\", 5)"
   ]
  },
  {
   "cell_type": "code",
   "execution_count": 200,
   "metadata": {},
   "outputs": [
    {
     "name": "stdout",
     "output_type": "stream",
     "text": [
      "Laptop  -  12\n",
      "Smartphone  -  25\n",
      "Tablet  -  10\n",
      "Headphones  -  30\n",
      "Charger  -  50\n"
     ]
    }
   ],
   "source": [
    "def remove_product(product) :\n",
    "    # inventory.popitem()  # Last in first out\n",
    "    inventory.pop(product)\n",
    "    display_inventory()\n",
    "\n",
    "remove_product(\"speaker\")"
   ]
  },
  {
   "cell_type": "code",
   "execution_count": 201,
   "metadata": {},
   "outputs": [
    {
     "data": {
      "text/plain": [
       "dict_keys(['Laptop', 'Smartphone', 'Tablet', 'Headphones', 'Charger'])"
      ]
     },
     "execution_count": 201,
     "metadata": {},
     "output_type": "execute_result"
    }
   ],
   "source": [
    "inventory.keys()"
   ]
  },
  {
   "cell_type": "code",
   "execution_count": 202,
   "metadata": {},
   "outputs": [
    {
     "data": {
      "text/plain": [
       "dict_values([12, 25, 10, 30, 50])"
      ]
     },
     "execution_count": 202,
     "metadata": {},
     "output_type": "execute_result"
    }
   ],
   "source": [
    "inventory.values()"
   ]
  },
  {
   "cell_type": "code",
   "execution_count": 204,
   "metadata": {},
   "outputs": [
    {
     "data": {
      "text/plain": [
       "{'Jane': None, 'Rosie': None, 'Mary': None, 'Sam': None, 'George': None}"
      ]
     },
     "execution_count": 204,
     "metadata": {},
     "output_type": "execute_result"
    }
   ],
   "source": [
    "names = ['Jane', 'Rosie', 'Mary', 'Sam', 'George']\n",
    "dict.fromkeys(names)"
   ]
  },
  {
   "cell_type": "markdown",
   "metadata": {},
   "source": [
    "<hr><hr>"
   ]
  },
  {
   "cell_type": "markdown",
   "metadata": {},
   "source": [
    "###### Ex. Calulate sum of squares of number from 1-5"
   ]
  },
  {
   "cell_type": "code",
   "execution_count": 205,
   "metadata": {},
   "outputs": [
    {
     "data": {
      "text/plain": [
       "55"
      ]
     },
     "execution_count": 205,
     "metadata": {},
     "output_type": "execute_result"
    }
   ],
   "source": [
    "# reducing the sequence to single int object\n",
    "total = 0\n",
    "for i in range(1, 6) :\n",
    "    total += i**2\n",
    "total"
   ]
  },
  {
   "cell_type": "markdown",
   "metadata": {},
   "source": [
    "###### Ex. Generate a list of squares of numbers from 1-5"
   ]
  },
  {
   "cell_type": "code",
   "execution_count": 207,
   "metadata": {},
   "outputs": [
    {
     "data": {
      "text/plain": [
       "[1, 4, 9, 16, 25]"
      ]
     },
     "execution_count": 207,
     "metadata": {},
     "output_type": "execute_result"
    }
   ],
   "source": [
    "# generating a new mutable sequence\n",
    "squares = []\n",
    "for i in range(1, 6) :\n",
    "    squares.append(i**2)\n",
    "squares"
   ]
  },
  {
   "attachments": {},
   "cell_type": "markdown",
   "metadata": {},
   "source": [
    "## Comprehensions in Python\n",
    "\n",
    "- A **`comprehension`** is a concise and readable way to create and manipulate collections such as lists, dictionaries, and sets.\n",
    "- Comprehensions provide a compact syntax to generate new sequences by applying an expression to each item in an existing sequence or iterable.\n",
    "- Syntax - `[<expression> for <var> in <sequence> if <condition>]`\n",
    "- The steps to work on a comprehension:\n",
    "    1. Identify the iterable or sequence.\n",
    "    2. Determine any conditions or filters.\n",
    "    3. Define the expression or operation to apply.\n",
    "    4. Specify the target mutable data structure.\n",
    "- Note - Do not work with while loop, break and continue statements"
   ]
  },
  {
   "cell_type": "markdown",
   "metadata": {},
   "source": [
    "###### Ex. WAP to generate a list of squares of number in range of 1-10"
   ]
  },
  {
   "cell_type": "code",
   "execution_count": 208,
   "metadata": {},
   "outputs": [
    {
     "data": {
      "text/plain": [
       "[1, 4, 9, 16, 25, 36, 49, 64, 81, 100]"
      ]
     },
     "execution_count": 208,
     "metadata": {},
     "output_type": "execute_result"
    }
   ],
   "source": [
    "[i**2 for i in range(1, 11)]"
   ]
  },
  {
   "cell_type": "markdown",
   "metadata": {},
   "source": [
    "###### Ex. WAP to create a list of squares of even number in range of 1-10"
   ]
  },
  {
   "cell_type": "code",
   "execution_count": 209,
   "metadata": {},
   "outputs": [
    {
     "data": {
      "text/plain": [
       "[4, 16, 36, 64, 100]"
      ]
     },
     "execution_count": 209,
     "metadata": {},
     "output_type": "execute_result"
    }
   ],
   "source": [
    "[i**2 for i in range(1, 11) if i %2 == 0]"
   ]
  },
  {
   "cell_type": "markdown",
   "metadata": {},
   "source": [
    "###### Ex. WAP to create a dict of number from 1-10 as keys and their squares as values\n"
   ]
  },
  {
   "cell_type": "code",
   "execution_count": 210,
   "metadata": {},
   "outputs": [
    {
     "data": {
      "text/plain": [
       "{1: 1, 2: 4, 3: 9, 4: 16, 5: 25, 6: 36, 7: 49, 8: 64, 9: 81, 10: 100}"
      ]
     },
     "execution_count": 210,
     "metadata": {},
     "output_type": "execute_result"
    }
   ],
   "source": [
    "{i:i**2 for i in range(1, 11)}"
   ]
  },
  {
   "cell_type": "code",
   "execution_count": 211,
   "metadata": {},
   "outputs": [
    {
     "data": {
      "text/plain": [
       "{2: 4, 4: 16, 6: 36, 8: 64, 10: 100}"
      ]
     },
     "execution_count": 211,
     "metadata": {},
     "output_type": "execute_result"
    }
   ],
   "source": [
    "{i:i**2 for i in range(1, 11) if i % 2 == 0}  # if - filter condition"
   ]
  },
  {
   "cell_type": "markdown",
   "metadata": {},
   "source": [
    "###### Ex. WAP to create a dict of number from 1-5 as keys and their type as even/odd as value"
   ]
  },
  {
   "cell_type": "code",
   "execution_count": 212,
   "metadata": {},
   "outputs": [
    {
     "data": {
      "text/plain": [
       "{1: 'odd', 2: 'even', 3: 'odd', 4: 'even', 5: 'odd'}"
      ]
     },
     "execution_count": 212,
     "metadata": {},
     "output_type": "execute_result"
    }
   ],
   "source": [
    "{i : (\"even\" if i % 2 == 0 else \"odd\") for i in range(1, 6)}  # if-else expression"
   ]
  },
  {
   "cell_type": "markdown",
   "metadata": {},
   "source": [
    "#### Examples - "
   ]
  },
  {
   "cell_type": "markdown",
   "metadata": {},
   "source": [
    "###### Ex. WAP to add 7% service tax to all the values in the \"sales\" list"
   ]
  },
  {
   "cell_type": "code",
   "execution_count": null,
   "metadata": {},
   "outputs": [],
   "source": [
    "sales = [290, 500, 800, 650]"
   ]
  },
  {
   "cell_type": "markdown",
   "metadata": {},
   "source": [
    "###### Ex. WAP to sum all the values in the \"sales\" tuple"
   ]
  },
  {
   "cell_type": "code",
   "execution_count": null,
   "metadata": {},
   "outputs": [],
   "source": [
    "sales = (\"$290\", \"$500\", \"$800\", \"$650\")"
   ]
  },
  {
   "cell_type": "markdown",
   "metadata": {},
   "source": [
    "###### Ex. Data Cleaning - Normalize product names in a dataset."
   ]
  },
  {
   "cell_type": "code",
   "execution_count": null,
   "metadata": {},
   "outputs": [],
   "source": [
    "# List of product names with inconsistent capitalization\n",
    "products = [\"  Apple  \", \"banana\", \"CHERRY \", \"Date\"]\n"
   ]
  },
  {
   "cell_type": "markdown",
   "metadata": {},
   "source": [
    "###### Ex. Identify products with low stock levels."
   ]
  },
  {
   "cell_type": "code",
   "execution_count": null,
   "metadata": {},
   "outputs": [],
   "source": [
    "inventory = {\"apple\": 50, \"banana\": 10, \"cherry\": 75, \"date\": 5}\n"
   ]
  },
  {
   "cell_type": "code",
   "execution_count": null,
   "metadata": {},
   "outputs": [],
   "source": [
    "# Extract list of product names"
   ]
  },
  {
   "cell_type": "markdown",
   "metadata": {},
   "source": [
    "###### Ex. Calculate the average performance score of employees."
   ]
  },
  {
   "cell_type": "code",
   "execution_count": null,
   "metadata": {},
   "outputs": [],
   "source": [
    "performance = { \"John\": [85, 90, 78], \"Jane\": [92, 88, 95], \"Alice\": [80, 85, 87]}\n"
   ]
  },
  {
   "cell_type": "markdown",
   "metadata": {},
   "source": [
    "###### Ex. Calculate the percentage change in stock prices.\n"
   ]
  },
  {
   "cell_type": "code",
   "execution_count": null,
   "metadata": {},
   "outputs": [],
   "source": [
    "# List of stock prices over time - ((new-old) / old) * 100\n",
    "stock_prices = [95, 105, 118, 112, 120]\n"
   ]
  },
  {
   "cell_type": "markdown",
   "metadata": {},
   "source": [
    "<hr><hr>"
   ]
  }
 ],
 "metadata": {
  "kernelspec": {
   "display_name": "Python 3 (ipykernel)",
   "language": "python",
   "name": "python3"
  },
  "language_info": {
   "codemirror_mode": {
    "name": "ipython",
    "version": 3
   },
   "file_extension": ".py",
   "mimetype": "text/x-python",
   "name": "python",
   "nbconvert_exporter": "python",
   "pygments_lexer": "ipython3",
   "version": "3.12.0"
  }
 },
 "nbformat": 4,
 "nbformat_minor": 4
}
